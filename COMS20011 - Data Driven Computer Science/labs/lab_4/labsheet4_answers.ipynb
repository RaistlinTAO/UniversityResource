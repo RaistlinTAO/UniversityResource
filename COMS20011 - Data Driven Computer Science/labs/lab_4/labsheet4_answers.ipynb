{
 "cells": [
  {
   "cell_type": "markdown",
   "metadata": {},
   "source": [
    "# Lab 4: Maximum Likelihood Estimate (MLE)\n",
    "\n",
    "### Introduction\n",
    "\n",
    "In this lab session we shall have a look at how to use the *Maximum Likelihood Estimate (MLE)* method to estimate the parameters of some model, given some observations $D$.\n",
    "\n",
    "<font color=\"red\">NOTE: </font>In the notation $\\mathcal{N} (\\mu, \\sigma^2)$ $\\mu$ refers to the mean and $\\sigma^2$  the variance, not the standard deviation. The standard deviation is $\\sigma = \\sqrt {\\sigma^2}$, i.e. for $\\mathcal{N}(0.5, 0.25)$, the standard deviation is $\\sigma = 0.5$.\n",
    "\n",
    "As usual, let's import the libraries before we start by running the cell below."
   ]
  },
  {
   "cell_type": "code",
   "execution_count": 2,
   "metadata": {},
   "outputs": [],
   "source": [
    "from __future__ import print_function # to avoid issues between Python 2 and 3 printing\n",
    "\n",
    "import numpy as np\n",
    "from scipy import stats\n",
    "# Necessary to import Axes3D to use `plt.subplots(subplot_kw={'projection': '3d'})`\n",
    "# as this internally sets up matplotlib for 3D projection, without this import you'll \n",
    "# get an error.\n",
    "from mpl_toolkits.mplot3d import Axes3D\n",
    "import matplotlib.pyplot as plt\n",
    "\n",
    "# show matplotlib figures inline\n",
    "%matplotlib inline"
   ]
  },
  {
   "cell_type": "code",
   "execution_count": 3,
   "metadata": {},
   "outputs": [],
   "source": [
    "# By default we set figures to be 7\"x4\" on a 110 dots per inch (DPI) screen \n",
    "# (adjust DPI if you have a high res screen!)\n",
    "plt.rc('figure', figsize=(7, 4), dpi=110)\n",
    "plt.rc('font', size=10)"
   ]
  },
  {
   "cell_type": "markdown",
   "metadata": {},
   "source": [
    "## MLE with Python\n",
    "\n",
    "Here, We know want you to write a simple program that calculates $\\mu_{\\text{ML}}$ using Python.\n",
    "\n",
    "Let's now load the data from the file `data1.dat` and let's plot the histogram of the data."
   ]
  },
  {
   "cell_type": "code",
   "execution_count": 4,
   "metadata": {},
   "outputs": [],
   "source": [
    "# write your code here"
   ]
  },
  {
   "cell_type": "code",
   "execution_count": 5,
   "metadata": {},
   "outputs": [
    {
     "data": {
      "text/plain": [
       "(array([2., 1., 5., 9., 8., 8., 8., 4., 2., 3.]),\n",
       " array([-0.34415 , -0.144065,  0.05602 ,  0.256105,  0.45619 ,  0.656275,\n",
       "         0.85636 ,  1.056445,  1.25653 ,  1.456615,  1.6567  ]),\n",
       " <BarContainer object of 10 artists>)"
      ]
     },
     "execution_count": 5,
     "metadata": {},
     "output_type": "execute_result"
    },
    {
     "data": {
      "image/png": "[encoded data removed]",
      "text/plain": [
       "<Figure size 770x440 with 1 Axes>"
      ]
     },
     "metadata": {
      "needs_background": "light"
     },
     "output_type": "display_data"
    }
   ],
   "source": [
    "##CORRECT ANSWER##\n",
    "D = np.loadtxt('data1.dat', delimiter=',')\n",
    "\n",
    "plt.hist(D)\n",
    "##CORRECT ANSWER##"
   ]
  },
  {
   "cell_type": "markdown",
   "metadata": {},
   "source": [
    "You should now see a histogram approximating a normal distribution. In fact, `data1.data` contains the observations $D$ we talked about above when deriving $\\mu_\\text{ML}$, which we said we believe follows a normal distribution. \n",
    "\n",
    "Write a function `compute_likelihood(D, mu)` that takes a value of $\\mu$ and computes $p(D | \\mu)$ for the data in `data1.dat`, assuming $\\sigma=0.5$.\n",
    "\n",
    "You may use NumPy's function `np.prod` for the calculation."
   ]
  },
  {
   "cell_type": "code",
   "execution_count": 6,
   "metadata": {},
   "outputs": [],
   "source": [
    "# write your code here"
   ]
  },
  {
   "cell_type": "code",
   "execution_count": 7,
   "metadata": {},
   "outputs": [
    {
     "data": {
      "text/plain": [
       "2.1613853049710207e-15"
      ]
     },
     "execution_count": 7,
     "metadata": {},
     "output_type": "execute_result"
    }
   ],
   "source": [
    "##CORRECT ANSWER##\n",
    "def compute_likelihood(data, mu, sigma=0.5):\n",
    "    pdf = stats.norm.pdf(data, loc=mu, scale=sigma)\n",
    "    likelihood = pdf.prod()\n",
    "    \n",
    "    return likelihood\n",
    "\n",
    "compute_likelihood(D, 0.5)\n",
    "##CORRECT ANSWER##"
   ]
  },
  {
   "cell_type": "markdown",
   "metadata": {},
   "source": [
    "Write a function `loop_likelihood(D)` that calls `compute_likelihood` for each value of $\\mu \\in \\{0.00, 0.01, 0.02, \\ldots , 1.00\\}$, storing *both* the value of $\\mu$ and the corresponding obtained likelihood in a 2D array so that the first column contains the value $\\mu$ and the second the likelihood $p(D|\\mu)$ ."
   ]
  },
  {
   "cell_type": "code",
   "execution_count": 8,
   "metadata": {},
   "outputs": [],
   "source": [
    "# write your code here"
   ]
  },
  {
   "cell_type": "code",
   "execution_count": 9,
   "metadata": {
    "scrolled": true
   },
   "outputs": [
    {
     "data": {
      "text/plain": [
       "array([[0.00000000e+00, 8.13741147e-34],\n",
       "       [1.00000000e-02, 3.10295510e-33],\n",
       "       [2.00000000e-02, 1.15978855e-32],\n",
       "       [3.00000000e-02, 4.24909314e-32],\n",
       "       [4.00000000e-02, 1.52590606e-31],\n",
       "       [5.00000000e-02, 5.37122633e-31],\n",
       "       [6.00000000e-02, 1.85324663e-30],\n",
       "       [7.00000000e-02, 6.26768405e-30],\n",
       "       [8.00000000e-02, 2.07775857e-29],\n",
       "       [9.00000000e-02, 6.75145193e-29],\n",
       "       [1.00000000e-01, 2.15037097e-28],\n",
       "       [1.10000000e-01, 6.71341827e-28],\n",
       "       [1.20000000e-01, 2.05441480e-27],\n",
       "       [1.30000000e-01, 6.16235443e-27],\n",
       "       [1.40000000e-01, 1.81183783e-26],\n",
       "       [1.50000000e-01, 5.22162984e-26],\n",
       "       [1.60000000e-01, 1.47505071e-25],\n",
       "       [1.70000000e-01, 4.08434042e-25],\n",
       "       [1.80000000e-01, 1.10853912e-24],\n",
       "       [1.90000000e-01, 2.94913208e-24],\n",
       "       [2.00000000e-01, 7.69044614e-24],\n",
       "       [2.10000000e-01, 1.96572589e-23],\n",
       "       [2.20000000e-01, 4.92502556e-23],\n",
       "       [2.30000000e-01, 1.20950629e-22],\n",
       "       [2.40000000e-01, 2.91153412e-22],\n",
       "       [2.50000000e-01, 6.86988943e-22],\n",
       "       [2.60000000e-01, 1.58888228e-21],\n",
       "       [2.70000000e-01, 3.60203398e-21],\n",
       "       [2.80000000e-01, 8.00420124e-21],\n",
       "       [2.90000000e-01, 1.74342112e-20],\n",
       "       [3.00000000e-01, 3.72220869e-20],\n",
       "       [3.10000000e-01, 7.78956569e-20],\n",
       "       [3.20000000e-01, 1.59786425e-19],\n",
       "       [3.30000000e-01, 3.21277732e-19],\n",
       "       [3.40000000e-01, 6.33192092e-19],\n",
       "       [3.50000000e-01, 1.22321965e-18],\n",
       "       [3.60000000e-01, 2.31626117e-18],\n",
       "       [3.70000000e-01, 4.29917094e-18],\n",
       "       [3.80000000e-01, 7.82160737e-18],\n",
       "       [3.90000000e-01, 1.39483045e-17],\n",
       "       [4.00000000e-01, 2.43815291e-17],\n",
       "       [4.10000000e-01, 4.17748181e-17],\n",
       "       [4.20000000e-01, 7.01588250e-17],\n",
       "       [4.30000000e-01, 1.15495259e-16],\n",
       "       [4.40000000e-01, 1.86363182e-16],\n",
       "       [4.50000000e-01, 2.94761112e-16],\n",
       "       [4.60000000e-01, 4.56977027e-16],\n",
       "       [4.70000000e-01, 6.94436691e-16],\n",
       "       [4.80000000e-01, 1.03439178e-15],\n",
       "       [4.90000000e-01, 1.51025949e-15],\n",
       "       [5.00000000e-01, 2.16138530e-15],\n",
       "       [5.10000000e-01, 3.03198415e-15],\n",
       "       [5.20000000e-01, 4.16903720e-15],\n",
       "       [5.30000000e-01, 5.61899600e-15],\n",
       "       [5.40000000e-01, 7.42327906e-15],\n",
       "       [5.50000000e-01, 9.61273480e-15],\n",
       "       [5.60000000e-01, 1.22014725e-14],\n",
       "       [5.70000000e-01, 1.51806945e-14],\n",
       "       [5.80000000e-01, 1.85133557e-14],\n",
       "       [5.90000000e-01, 2.21305782e-14],\n",
       "       [6.00000000e-01, 2.59307147e-14],\n",
       "       [6.10000000e-01, 2.97817575e-14],\n",
       "       [6.20000000e-01, 3.35274304e-14],\n",
       "       [6.30000000e-01, 3.69968140e-14],\n",
       "       [6.40000000e-01, 4.00168126e-14],\n",
       "       [6.50000000e-01, 4.24262622e-14],\n",
       "       [6.60000000e-01, 4.40901077e-14],\n",
       "       [6.70000000e-01, 4.49119237e-14],\n",
       "       [6.80000000e-01, 4.48431659e-14],\n",
       "       [6.90000000e-01, 4.38879187e-14],\n",
       "       [7.00000000e-01, 4.21024932e-14],\n",
       "       [7.10000000e-01, 3.95899319e-14],\n",
       "       [7.20000000e-01, 3.64901631e-14],\n",
       "       [7.30000000e-01, 3.29671167e-14],\n",
       "       [7.40000000e-01, 2.91944459e-14],\n",
       "       [7.50000000e-01, 2.53415758e-14],\n",
       "       [7.60000000e-01, 2.15616062e-14],\n",
       "       [7.70000000e-01, 1.79821953e-14],\n",
       "       [7.80000000e-01, 1.47000369e-14],\n",
       "       [7.90000000e-01, 1.17789952e-14],\n",
       "       [8.00000000e-01, 9.25150056e-15],\n",
       "       [8.10000000e-01, 7.12246335e-15],\n",
       "       [8.20000000e-01, 5.37480084e-15],\n",
       "       [8.30000000e-01, 3.97565455e-15],\n",
       "       [8.40000000e-01, 2.88249800e-15],\n",
       "       [8.50000000e-01, 2.04853553e-15],\n",
       "       [8.60000000e-01, 1.42702669e-15],\n",
       "       [8.70000000e-01, 9.74394449e-16],\n",
       "       [8.80000000e-01, 6.52156184e-16],\n",
       "       [8.90000000e-01, 4.27841141e-16],\n",
       "       [9.00000000e-01, 2.75123432e-16],\n",
       "       [9.10000000e-01, 1.73415027e-16],\n",
       "       [9.20000000e-01, 1.07142058e-16],\n",
       "       [9.30000000e-01, 6.48854547e-17],\n",
       "       [9.40000000e-01, 3.85166787e-17],\n",
       "       [9.50000000e-01, 2.24111643e-17],\n",
       "       [9.60000000e-01, 1.27818618e-17],\n",
       "       [9.70000000e-01, 7.14558726e-18],\n",
       "       [9.80000000e-01, 3.91557770e-18],\n",
       "       [9.90000000e-01, 2.10313852e-18],\n",
       "       [1.00000000e+00, 1.10727123e-18]])"
      ]
     },
     "execution_count": 9,
     "metadata": {},
     "output_type": "execute_result"
    }
   ],
   "source": [
    "##CORRECT ANSWER##\n",
    "def loop_likelihood(data, size=101):\n",
    "    L = np.zeros(shape=(size, 2))\n",
    "    \n",
    "    for i, mu in enumerate(np.linspace(0, 1, size)):\n",
    "        likelihood = compute_likelihood(data, mu)\n",
    "        L[i, :] = (mu, likelihood)\n",
    "        \n",
    "    return L\n",
    "\n",
    "\n",
    "loop_likelihood(D)\n",
    "##CORRECT ANSWER##"
   ]
  },
  {
   "cell_type": "markdown",
   "metadata": {},
   "source": [
    "### Questions:\n",
    "\n",
    "- What is the value of the maximum likelihood $\\text{ML} = \\max p(D|\\mu)$ ? \n",
    "\n",
    "- What is $\\mu_{\\text{ML}} = arg\\,max_\\mu \\, p(D|\\mu)$? \n",
    "\n",
    "Make sure you understand the difference between the two."
   ]
  },
  {
   "cell_type": "code",
   "execution_count": 10,
   "metadata": {},
   "outputs": [],
   "source": [
    "# write your code here"
   ]
  },
  {
   "cell_type": "code",
   "execution_count": 11,
   "metadata": {},
   "outputs": [
    {
     "name": "stdout",
     "output_type": "stream",
     "text": [
      "mu_ml = 0.67\n",
      "ml = 4.491192371239748e-14\n"
     ]
    }
   ],
   "source": [
    "##CORRECT ANSWER##\n",
    "L = loop_likelihood(D)\n",
    "max_ml_index = L[:, 1].argmax() # second column contains likelihoods\n",
    "arg_max_ml, max_ml = L[max_ml_index, :]\n",
    "\n",
    "print('mu_ml =', arg_max_ml)\n",
    "print('ml =', max_ml)\n",
    "##CORRECT ANSWER##"
   ]
  },
  {
   "cell_type": "markdown",
   "metadata": {},
   "source": [
    "### Visual interpretation\n",
    "\n",
    "Look at the obtained $\\mu_{\\text{ML}}$ and at the previously plotted histogram. Can you see any relationship between the obtained value and the histogram?\n",
    "\n",
    "Let's now plot $\\mu$ against $p(D|\\mu)$, using the $\\mu$ values you used to compute the likelihoods. Plot also a vertical line located at $\\mu_{\\text{ML}}$. Where does this line lie? Is it a meaningful position?"
   ]
  },
  {
   "cell_type": "code",
   "execution_count": 12,
   "metadata": {},
   "outputs": [],
   "source": [
    "# write your code here"
   ]
  },
  {
   "cell_type": "code",
   "execution_count": 13,
   "metadata": {},
   "outputs": [
    {
     "data": {
      "text/plain": [
       "[<matplotlib.lines.Line2D at 0x7f96c0de5d90>]"
      ]
     },
     "execution_count": 13,
     "metadata": {},
     "output_type": "execute_result"
    },
    {
     "data": {
      "image/png": "[encoded data removed]",
      "text/plain": [
       "<Figure size 770x440 with 1 Axes>"
      ]
     },
     "metadata": {
      "needs_background": "light"
     },
     "output_type": "display_data"
    }
   ],
   "source": [
    "##CORRECT ANSWER##\n",
    "# plot mu against p(D|mu) \n",
    "fig, ax = plt.subplots()\n",
    "ax.plot(L[:, 0], L[:, 1]) \n",
    "# plot a vertical line to show arg max(P(D|mu))\n",
    "xs = (L[max_ml_index, 0], L[max_ml_index, 0])\n",
    "ys = (0, L[max_ml_index, 1])\n",
    "ax.plot(xs, ys, color='r' )\n",
    "##CORRECT ANSWER##"
   ]
  },
  {
   "cell_type": "markdown",
   "metadata": {},
   "source": [
    "The line is at the maximum value of $p(D|\\mu)$."
   ]
  },
  {
   "cell_type": "markdown",
   "metadata": {},
   "source": [
    "### Comparison with MLE recipe\n",
    "\n",
    "Now implement the analytic MLE result, $\\mu_\\text{ML} = \\frac{1}{n}\\sum_i d_i$, to find the value of $\\mu_{ML}$ (note that this should be just one line of code!).\n",
    "\n",
    "Compare this value with that obtained previously. Do the values match? "
   ]
  },
  {
   "cell_type": "code",
   "execution_count": 14,
   "metadata": {},
   "outputs": [],
   "source": [
    "# write your code here"
   ]
  },
  {
   "cell_type": "code",
   "execution_count": 15,
   "metadata": {},
   "outputs": [
    {
     "name": "stdout",
     "output_type": "stream",
     "text": [
      "mu_ml = 0.67\n",
      "mu_ml with MLE recipe (data mean) = 0.6742339399999999\n"
     ]
    }
   ],
   "source": [
    "##CORRECT ANSWER##\n",
    "print('mu_ml =', arg_max_ml)\n",
    "print('mu_ml with MLE recipe (data mean) =', D.sum() / len(D))\n",
    "##CORRECT ANSWER##"
   ]
  },
  {
   "cell_type": "markdown",
   "metadata": {},
   "source": [
    "### CORRECT ANSWER\n",
    "\n",
    "By using the MLE recipe we found that the parameter $\\mu$ maximising the likelihood was given by the mean of the data points $D$. \n",
    "\n",
    "In fact, the mean of $D$ corresponds to the previously obtained $\\mu_{\\text{ML}} = argmax_\\mu P(D|\\mu)$, which was $0.67$."
   ]
  }
 ],
 "metadata": {
  "kernelspec": {
   "display_name": "Python 3 (ipykernel)",
   "language": "python",
   "name": "python3"
  },
  "language_info": {
   "codemirror_mode": {
    "name": "ipython",
    "version": 3
   },
   "file_extension": ".py",
   "mimetype": "text/x-python",
   "name": "python",
   "nbconvert_exporter": "python",
   "pygments_lexer": "ipython3",
   "version": "3.9.7"
  }
 },
 "nbformat": 4,
 "nbformat_minor": 4
}
