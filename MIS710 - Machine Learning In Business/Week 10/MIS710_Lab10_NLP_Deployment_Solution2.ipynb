{
  "cells": [
    {
      "cell_type": "markdown",
      "metadata": {
        "id": "view-in-github"
      },
      "source": [
        "<a href=\"https://colab.research.google.com/github/thuc-github/MIS710-T12023/blob/main/Week%2010/MIS710_Lab10_NLP_Deployment_Solution.ipynb\" target=\"_parent\"><img src=\"https://colab.research.google.com/assets/colab-badge.svg\" alt=\"Open In Colab\"/></a>"
      ]
    },
    {
      "cell_type": "markdown",
      "metadata": {
        "id": "MNkJtLWoPpW7"
      },
      "source": [
        "\n",
        "# **MIS710 Lab 10 Week 10 Deployment Solution**\n",
        "Author: Associate Professor Lemai Nguyen\n",
        "\n",
        "Objectives:\n",
        "1. To learn text analytics and NLP basics\n",
        "2. To apply the basic skills on the well-known Internet Movie Database developed by Stanford researcher Andrew Maas.\n",
        "3. To learn basic MLOps: saving your model and loading and using it later.\n",
        "4. Optional: To apply the basic NLP skills on another review dataset.\n",
        "\n",
        "\n",
        "Note: This MIS710_Lab10_NLP_Deployment enables you to load the saved model and vectorizer and apply them to make predictions on new data.\n"
      ]
    },
    {
      "cell_type": "markdown",
      "metadata": {
        "id": "SSX6_DT9CA72"
      },
      "source": [
        "# **1. Import libraries and functions**"
      ]
    },
    {
      "cell_type": "code",
      "execution_count": 26,
      "metadata": {
        "id": "lVf5buwkml_I"
      },
      "outputs": [],
      "source": [
        "# import libraries\n",
        "import pandas as pd #for data manipulation and analysis\n",
        "import numpy as np\n",
        "\n",
        "import seaborn as sns\n",
        "import matplotlib.pyplot as plt"
      ]
    },
    {
      "cell_type": "code",
      "execution_count": 27,
      "metadata": {
        "id": "nNs6sdotgQHz"
      },
      "outputs": [],
      "source": [
        "from sklearn import metrics\n",
        "from sklearn.metrics import classification_report, confusion_matrix"
      ]
    },
    {
      "cell_type": "markdown",
      "metadata": {
        "id": "B38Q50gZm1vQ"
      },
      "source": [
        "# **2. Case One: IMDb**\n",
        "\n",
        "**Sentiment analysis**\n",
        "\n",
        "**Context**\n",
        "IMDb stands for the Internet Movie Database, which is an online database of information related to films, television programs, and video games. It contains a vast collection of data on various aspects of the entertainment industry, including cast and crew information, production details, plot summaries, and user ratings and reviews.\n",
        "\n",
        "**Content**\n",
        "The IMDb dataset has been widely used in sentiment analysis research. The dataset contains 50,000 movie reviews. Each review is labeled as either \"positive\" or \"negative\" based on the overall sentiment expressed in the review.\n",
        "\n",
        "The dataset consists of 25,000 highly polar movie reviews for training, and 25,000 for testing. There is additional unlabeled data for use as well. Raw text and already processed bag of words formats are provided.\n",
        "\n",
        "**Inspiration**\n",
        "To train and test a sentiment analysis model\n",
        "\n",
        "**Further information**:\n",
        "Andrew L. Maas, Raymond E. Daly, Peter T. Pham, Dan Huang, Andrew Y. Ng, and Christopher Potts. (2011). Learning Word Vectors for Sentiment Analysis. The 49th Annual Meeting of the Association for Computational Linguistics (ACL 2011).\n",
        "\n",
        "http://ai.stanford.edu/~amaas/data/sentiment/\n"
      ]
    },
    {
      "cell_type": "markdown",
      "metadata": {
        "id": "yAIPvEeNyJYr"
      },
      "source": [
        "## **2.1 Load the vectoriser and model**"
      ]
    },
    {
      "cell_type": "code",
      "source": [
        "from google.colab import drive\n",
        "drive.mount('/content/drive')"
      ],
      "metadata": {
        "id": "EUkGlZoB9CRs",
        "colab": {
          "base_uri": "https://localhost:8080/"
        },
        "outputId": "47ddd860-2cb1-4021-e848-edb14b1fe060"
      },
      "execution_count": 28,
      "outputs": [
        {
          "output_type": "stream",
          "name": "stdout",
          "text": [
            "Drive already mounted at /content/drive; to attempt to forcibly remount, call drive.mount(\"/content/drive\", force_remount=True).\n"
          ]
        }
      ]
    },
    {
      "cell_type": "code",
      "execution_count": 29,
      "metadata": {
        "id": "fZlJI4aqzMqb"
      },
      "outputs": [],
      "source": [
        "import pickle"
      ]
    },
    {
      "cell_type": "code",
      "source": [
        "#modify the code below to point to your picked model\n",
        "#or use my models from here https://github.com/VanLan0/MIS710-ML/tree/main/Pickled\n",
        "path_model = '/content/drive/MyDrive/Colab Notebooks/MIS710 2024 T1/Week 10/IMDB_lr_clf.pkl'"
      ],
      "metadata": {
        "id": "G3Z1iQ8IjWI6"
      },
      "execution_count": 30,
      "outputs": []
    },
    {
      "cell_type": "code",
      "source": [
        "#modify the code below to point to your picked model\n",
        "path_vectorizer = '/content/drive/MyDrive/Colab Notebooks/MIS710 2024 T1/Week 10/tfidf_vectorizer.pkl'"
      ],
      "metadata": {
        "id": "sN8yLgr3xoXf"
      },
      "execution_count": 31,
      "outputs": []
    },
    {
      "cell_type": "code",
      "execution_count": 32,
      "metadata": {
        "id": "MxRjDs-S2HfC",
        "colab": {
          "base_uri": "https://localhost:8080/"
        },
        "outputId": "8473c68f-0eeb-4659-a358-d8102fccdd71"
      },
      "outputs": [
        {
          "output_type": "stream",
          "name": "stderr",
          "text": [
            "/usr/local/lib/python3.10/dist-packages/sklearn/base.py:348: InconsistentVersionWarning: Trying to unpickle estimator TfidfTransformer from version 1.2.2 when using version 1.3.2. This might lead to breaking code or invalid results. Use at your own risk. For more info please refer to:\n",
            "https://scikit-learn.org/stable/model_persistence.html#security-maintainability-limitations\n",
            "  warnings.warn(\n",
            "/usr/local/lib/python3.10/dist-packages/sklearn/base.py:348: InconsistentVersionWarning: Trying to unpickle estimator TfidfVectorizer from version 1.2.2 when using version 1.3.2. This might lead to breaking code or invalid results. Use at your own risk. For more info please refer to:\n",
            "https://scikit-learn.org/stable/model_persistence.html#security-maintainability-limitations\n",
            "  warnings.warn(\n",
            "/usr/local/lib/python3.10/dist-packages/sklearn/base.py:348: InconsistentVersionWarning: Trying to unpickle estimator LogisticRegression from version 1.2.2 when using version 1.3.2. This might lead to breaking code or invalid results. Use at your own risk. For more info please refer to:\n",
            "https://scikit-learn.org/stable/model_persistence.html#security-maintainability-limitations\n",
            "  warnings.warn(\n"
          ]
        }
      ],
      "source": [
        "#Load the vectorizer and model\n",
        "with open(path_vectorizer, 'rb') as f:\n",
        "    loaded_vectorizer = pickle.load(f)\n",
        "\n",
        "with open(path_model, 'rb') as f:\n",
        "    loaded_lr = pickle.load(f)\n"
      ]
    },
    {
      "cell_type": "code",
      "source": [
        "#check the size of the vocabulary\n",
        "print(\"Size of vocabulary:\", len(loaded_vectorizer.vocabulary_))"
      ],
      "metadata": {
        "colab": {
          "base_uri": "https://localhost:8080/"
        },
        "id": "hg13YT7GO4E1",
        "outputId": "ff2ac5fd-a1da-41df-9a66-dd6908e1f414"
      },
      "execution_count": 33,
      "outputs": [
        {
          "output_type": "stream",
          "name": "stdout",
          "text": [
            "Size of vocabulary: 2778160\n"
          ]
        }
      ]
    },
    {
      "cell_type": "markdown",
      "source": [
        "## **2.2 Load data and process the unstrucutred data**"
      ],
      "metadata": {
        "id": "KWFlBfkxEb0w"
      }
    },
    {
      "cell_type": "markdown",
      "source": [
        "**Now load new reviews from the 'production line'. For you to test the model, we provide the labels. In reality, you don't have the labels for the real production line data.**\n",
        "\n"
      ],
      "metadata": {
        "id": "OGEIZa7DSptk"
      }
    },
    {
      "cell_type": "code",
      "execution_count": 34,
      "metadata": {
        "colab": {
          "base_uri": "https://localhost:8080/"
        },
        "id": "kvC7NfDQ8AH7",
        "outputId": "601bbeec-40cc-4924-e8f2-a8c05e4cdd38"
      },
      "outputs": [
        {
          "output_type": "stream",
          "name": "stdout",
          "text": [
            "                                                review sentiment\n",
            "0    This show is a breath of fresh air, really enj...  positive\n",
            "1    The acting is top-notch and the storyline has ...  positive\n",
            "2    Absolutely loved the first episode, it set a g...  positive\n",
            "3    The creativity and originality in this show ar...  positive\n",
            "4    The acting is top-notch and the storyline has ...  positive\n",
            "..                                                 ...       ...\n",
            "99   Outstanding performance by the lead, truly a s...  positive\n",
            "100  Absolutely loved the first episode, it set a g...  positive\n",
            "101  Unfortunately, it didn't live up to the hype, ...  negative\n",
            "102  Outstanding performance by the lead, truly a s...  positive\n",
            "103  Unfortunately, it didn't live up to the hype, ...  negative\n",
            "\n",
            "[104 rows x 2 columns]\n"
          ]
        }
      ],
      "source": [
        "url='https://raw.githubusercontent.com/VanLan0/MIS710-ML/main/Datasets/DrCha_reviews2024.csv'\n",
        "new_reviews = pd.read_csv(url)\n",
        "print(new_reviews)"
      ]
    },
    {
      "cell_type": "markdown",
      "source": [
        "In practice, we should create a data pipeline to automate the pre-process of data. Let's repeat the pre-processing steps for now."
      ],
      "metadata": {
        "id": "ZvyT1DkoZ_GQ"
      }
    },
    {
      "cell_type": "code",
      "execution_count": 35,
      "metadata": {
        "id": "TzaQV03AS4o3"
      },
      "outputs": [],
      "source": [
        "#import the Python module re to work with regular expressions\n",
        "import re"
      ]
    },
    {
      "cell_type": "code",
      "execution_count": 36,
      "metadata": {
        "id": "g-Ymx5W6S4o3"
      },
      "outputs": [],
      "source": [
        "# Define function to clean text\n",
        "def clean_text(text):\n",
        "  # Remove HTML tags\n",
        "  text = re.sub(r'<.*?>', '', text)\n",
        "  # Remove punctuation and special characters\n",
        "  text = re.sub(r'[^\\w\\s]', '', text)\n",
        "  # Remove extra whitespace\n",
        "  text = re.sub(r'\\s+', ' ', text).strip()\n",
        "  return text"
      ]
    },
    {
      "cell_type": "code",
      "execution_count": 37,
      "metadata": {
        "id": "df9pSxt-S4o5"
      },
      "outputs": [],
      "source": [
        "def lowercasing(text):\n",
        "  # Convert to lowercase\n",
        "  text = text.lower()\n",
        "  return text"
      ]
    },
    {
      "cell_type": "code",
      "execution_count": 38,
      "metadata": {
        "id": "rmkltgrZS4o6"
      },
      "outputs": [],
      "source": [
        "import nltk\n",
        "from nltk.tokenize import word_tokenize\n",
        "from nltk.stem import PorterStemmer, WordNetLemmatizer\n",
        "from nltk.corpus import stopwords"
      ]
    },
    {
      "cell_type": "code",
      "execution_count": 39,
      "metadata": {
        "colab": {
          "base_uri": "https://localhost:8080/"
        },
        "outputId": "d23c298b-723b-47b1-9b2d-2abbd697527d",
        "id": "2T4HSuV3S4o6"
      },
      "outputs": [
        {
          "output_type": "stream",
          "name": "stderr",
          "text": [
            "[nltk_data] Downloading package punkt to /root/nltk_data...\n",
            "[nltk_data]   Package punkt is already up-to-date!\n",
            "[nltk_data] Downloading package wordnet to /root/nltk_data...\n",
            "[nltk_data]   Package wordnet is already up-to-date!\n",
            "[nltk_data] Downloading package stopwords to /root/nltk_data...\n",
            "[nltk_data]   Package stopwords is already up-to-date!\n"
          ]
        },
        {
          "output_type": "execute_result",
          "data": {
            "text/plain": [
              "True"
            ]
          },
          "metadata": {},
          "execution_count": 39
        }
      ],
      "source": [
        "nltk.download('punkt')\n",
        "nltk.download('wordnet')\n",
        "nltk.download('stopwords')"
      ]
    },
    {
      "cell_type": "code",
      "execution_count": 40,
      "metadata": {
        "id": "g6fQ4unhS4o6"
      },
      "outputs": [],
      "source": [
        "# define stopwords without negation words\n",
        "stop_words = set(stopwords.words('english'))\n",
        "negation_words = {'no', 'not', 'nor', 'neither', 'none', 'never'}\n",
        "filtered_words = [word for word in stop_words if word not in negation_words]"
      ]
    },
    {
      "cell_type": "code",
      "execution_count": 41,
      "metadata": {
        "id": "s-ZYlD74S4o6"
      },
      "outputs": [],
      "source": [
        "#define a function to perform tokenization, stemming and lemmatization\n",
        "def tokenize_lemmatize(text):\n",
        "  #tokenization\n",
        "  tokens = nltk.word_tokenize(text.lower())\n",
        "\n",
        "  #initialize stemmer and lemmatizer\n",
        "  lemmatizer = WordNetLemmatizer()\n",
        "\n",
        "  #perform stemming and lemmatization\n",
        "  lemmatized_tokens = [lemmatizer.lemmatize(token) for token in tokens if token not in filtered_words and token.lower() not in negation_words]\n",
        "  return ' '.join(lemmatized_tokens)"
      ]
    },
    {
      "cell_type": "code",
      "execution_count": 42,
      "metadata": {
        "id": "wiPvbJALS4o4"
      },
      "outputs": [],
      "source": [
        "##write code to apply the clean_text function to the 'review' column\n",
        "new_reviews['review']=new_reviews['review'].apply(clean_text)"
      ]
    },
    {
      "cell_type": "code",
      "execution_count": 43,
      "metadata": {
        "id": "rqNtAyyxS4o5"
      },
      "outputs": [],
      "source": [
        "##write code to apply the lowercasing function to the 'review' column\n",
        "\n",
        "new_reviews['review']=new_reviews['review'].apply(lowercasing)"
      ]
    },
    {
      "cell_type": "code",
      "execution_count": 44,
      "metadata": {
        "id": "NoA6_VmpS4o7"
      },
      "outputs": [],
      "source": [
        "##write code to tokenize, stem, and lemmatize the 'review' column\n",
        "processed_text = new_reviews['review'].apply(tokenize_lemmatize)\n"
      ]
    },
    {
      "cell_type": "code",
      "execution_count": 45,
      "metadata": {
        "colab": {
          "base_uri": "https://localhost:8080/",
          "height": 458
        },
        "id": "kFfEr73F9k-d",
        "outputId": "f69a08ea-e535-4243-fee7-fdb24c63ff71"
      },
      "outputs": [
        {
          "output_type": "execute_result",
          "data": {
            "text/plain": [
              "0      show breath fresh air really enjoyed unique humor\n",
              "1               acting topnotch storyline hooked already\n",
              "2      absolutely loved first episode set great tone ...\n",
              "3                    creativity originality show amazing\n",
              "4               acting topnotch storyline hooked already\n",
              "                             ...                        \n",
              "99           outstanding performance lead truly standout\n",
              "100    absolutely loved first episode set great tone ...\n",
              "101    unfortunately didnt live hype felt quite disap...\n",
              "102          outstanding performance lead truly standout\n",
              "103    unfortunately didnt live hype felt quite disap...\n",
              "Name: review, Length: 104, dtype: object"
            ],
            "text/html": [
              "<div>\n",
              "<style scoped>\n",
              "    .dataframe tbody tr th:only-of-type {\n",
              "        vertical-align: middle;\n",
              "    }\n",
              "\n",
              "    .dataframe tbody tr th {\n",
              "        vertical-align: top;\n",
              "    }\n",
              "\n",
              "    .dataframe thead th {\n",
              "        text-align: right;\n",
              "    }\n",
              "</style>\n",
              "<table border=\"1\" class=\"dataframe\">\n",
              "  <thead>\n",
              "    <tr style=\"text-align: right;\">\n",
              "      <th></th>\n",
              "      <th>review</th>\n",
              "    </tr>\n",
              "  </thead>\n",
              "  <tbody>\n",
              "    <tr>\n",
              "      <th>0</th>\n",
              "      <td>show breath fresh air really enjoyed unique humor</td>\n",
              "    </tr>\n",
              "    <tr>\n",
              "      <th>1</th>\n",
              "      <td>acting topnotch storyline hooked already</td>\n",
              "    </tr>\n",
              "    <tr>\n",
              "      <th>2</th>\n",
              "      <td>absolutely loved first episode set great tone ...</td>\n",
              "    </tr>\n",
              "    <tr>\n",
              "      <th>3</th>\n",
              "      <td>creativity originality show amazing</td>\n",
              "    </tr>\n",
              "    <tr>\n",
              "      <th>4</th>\n",
              "      <td>acting topnotch storyline hooked already</td>\n",
              "    </tr>\n",
              "    <tr>\n",
              "      <th>...</th>\n",
              "      <td>...</td>\n",
              "    </tr>\n",
              "    <tr>\n",
              "      <th>99</th>\n",
              "      <td>outstanding performance lead truly standout</td>\n",
              "    </tr>\n",
              "    <tr>\n",
              "      <th>100</th>\n",
              "      <td>absolutely loved first episode set great tone ...</td>\n",
              "    </tr>\n",
              "    <tr>\n",
              "      <th>101</th>\n",
              "      <td>unfortunately didnt live hype felt quite disap...</td>\n",
              "    </tr>\n",
              "    <tr>\n",
              "      <th>102</th>\n",
              "      <td>outstanding performance lead truly standout</td>\n",
              "    </tr>\n",
              "    <tr>\n",
              "      <th>103</th>\n",
              "      <td>unfortunately didnt live hype felt quite disap...</td>\n",
              "    </tr>\n",
              "  </tbody>\n",
              "</table>\n",
              "<p>104 rows × 1 columns</p>\n",
              "</div><br><label><b>dtype:</b> object</label>"
            ]
          },
          "metadata": {},
          "execution_count": 45
        }
      ],
      "source": [
        "processed_text"
      ]
    },
    {
      "cell_type": "code",
      "execution_count": 46,
      "metadata": {
        "id": "E6ZQ-kiU_ECI"
      },
      "outputs": [],
      "source": [
        "##write code to use loaded vectorizer to vectorize the new processed text\n",
        "X_new_tfidf = loaded_vectorizer.transform(processed_text)\n"
      ]
    },
    {
      "cell_type": "markdown",
      "source": [
        "## **2.3 Use the model to make predictions**"
      ],
      "metadata": {
        "id": "yVrKa6LKFGOl"
      }
    },
    {
      "cell_type": "code",
      "execution_count": 47,
      "metadata": {
        "id": "brFD8A_c-NXI"
      },
      "outputs": [],
      "source": [
        "##write code to make predictions on new data in the 'production line'\n",
        "y_pred = loaded_lr.predict(X_new_tfidf)"
      ]
    },
    {
      "cell_type": "markdown",
      "source": [
        "## **2.4 Monitor the model performance**\n",
        "\n",
        "Let's assume we have people (experts) to label data to evaluate the results.\n",
        "In this case, we used ChatGPT to label the date. Do you see any problems?"
      ],
      "metadata": {
        "id": "eoGjor2xFL1t"
      }
    },
    {
      "cell_type": "code",
      "source": [
        "##write code to use loaded vectorizer to vectorize the new processed text. Hint\n",
        "y_test_new=new_reviews['sentiment']"
      ],
      "metadata": {
        "id": "qm8_D7IzG9gF"
      },
      "execution_count": 48,
      "outputs": []
    },
    {
      "cell_type": "code",
      "source": [
        "##write code to join unseen y_test 'sentiment' with predicted value into a data frame\n",
        "inspection=pd.DataFrame({'Actual':y_test_new, 'Predicted':y_pred})\n",
        "\n",
        "##write code to join X_test with the new dataframe\n",
        "inspection=pd.concat([new_reviews['review'],inspection], axis=1)\n",
        "\n",
        "inspection"
      ],
      "metadata": {
        "colab": {
          "base_uri": "https://localhost:8080/",
          "height": 424
        },
        "id": "VjURH8pfPcOF",
        "outputId": "a3314e16-ee9d-4a51-d5f9-78ff707fbe01"
      },
      "execution_count": 49,
      "outputs": [
        {
          "output_type": "execute_result",
          "data": {
            "text/plain": [
              "                                                review    Actual Predicted\n",
              "0    this show is a breath of fresh air really enjo...  positive  positive\n",
              "1    the acting is topnotch and the storyline has m...  positive  positive\n",
              "2    absolutely loved the first episode it set a gr...  positive  positive\n",
              "3    the creativity and originality in this show ar...  positive  positive\n",
              "4    the acting is topnotch and the storyline has m...  positive  positive\n",
              "..                                                 ...       ...       ...\n",
              "99   outstanding performance by the lead truly a st...  positive  positive\n",
              "100  absolutely loved the first episode it set a gr...  positive  positive\n",
              "101  unfortunately it didnt live up to the hype fel...  negative  negative\n",
              "102  outstanding performance by the lead truly a st...  positive  positive\n",
              "103  unfortunately it didnt live up to the hype fel...  negative  negative\n",
              "\n",
              "[104 rows x 3 columns]"
            ],
            "text/html": [
              "\n",
              "  <div id=\"df-19b09b6a-60b1-4c6d-a66b-52ae85461dc3\" class=\"colab-df-container\">\n",
              "    <div>\n",
              "<style scoped>\n",
              "    .dataframe tbody tr th:only-of-type {\n",
              "        vertical-align: middle;\n",
              "    }\n",
              "\n",
              "    .dataframe tbody tr th {\n",
              "        vertical-align: top;\n",
              "    }\n",
              "\n",
              "    .dataframe thead th {\n",
              "        text-align: right;\n",
              "    }\n",
              "</style>\n",
              "<table border=\"1\" class=\"dataframe\">\n",
              "  <thead>\n",
              "    <tr style=\"text-align: right;\">\n",
              "      <th></th>\n",
              "      <th>review</th>\n",
              "      <th>Actual</th>\n",
              "      <th>Predicted</th>\n",
              "    </tr>\n",
              "  </thead>\n",
              "  <tbody>\n",
              "    <tr>\n",
              "      <th>0</th>\n",
              "      <td>this show is a breath of fresh air really enjo...</td>\n",
              "      <td>positive</td>\n",
              "      <td>positive</td>\n",
              "    </tr>\n",
              "    <tr>\n",
              "      <th>1</th>\n",
              "      <td>the acting is topnotch and the storyline has m...</td>\n",
              "      <td>positive</td>\n",
              "      <td>positive</td>\n",
              "    </tr>\n",
              "    <tr>\n",
              "      <th>2</th>\n",
              "      <td>absolutely loved the first episode it set a gr...</td>\n",
              "      <td>positive</td>\n",
              "      <td>positive</td>\n",
              "    </tr>\n",
              "    <tr>\n",
              "      <th>3</th>\n",
              "      <td>the creativity and originality in this show ar...</td>\n",
              "      <td>positive</td>\n",
              "      <td>positive</td>\n",
              "    </tr>\n",
              "    <tr>\n",
              "      <th>4</th>\n",
              "      <td>the acting is topnotch and the storyline has m...</td>\n",
              "      <td>positive</td>\n",
              "      <td>positive</td>\n",
              "    </tr>\n",
              "    <tr>\n",
              "      <th>...</th>\n",
              "      <td>...</td>\n",
              "      <td>...</td>\n",
              "      <td>...</td>\n",
              "    </tr>\n",
              "    <tr>\n",
              "      <th>99</th>\n",
              "      <td>outstanding performance by the lead truly a st...</td>\n",
              "      <td>positive</td>\n",
              "      <td>positive</td>\n",
              "    </tr>\n",
              "    <tr>\n",
              "      <th>100</th>\n",
              "      <td>absolutely loved the first episode it set a gr...</td>\n",
              "      <td>positive</td>\n",
              "      <td>positive</td>\n",
              "    </tr>\n",
              "    <tr>\n",
              "      <th>101</th>\n",
              "      <td>unfortunately it didnt live up to the hype fel...</td>\n",
              "      <td>negative</td>\n",
              "      <td>negative</td>\n",
              "    </tr>\n",
              "    <tr>\n",
              "      <th>102</th>\n",
              "      <td>outstanding performance by the lead truly a st...</td>\n",
              "      <td>positive</td>\n",
              "      <td>positive</td>\n",
              "    </tr>\n",
              "    <tr>\n",
              "      <th>103</th>\n",
              "      <td>unfortunately it didnt live up to the hype fel...</td>\n",
              "      <td>negative</td>\n",
              "      <td>negative</td>\n",
              "    </tr>\n",
              "  </tbody>\n",
              "</table>\n",
              "<p>104 rows × 3 columns</p>\n",
              "</div>\n",
              "    <div class=\"colab-df-buttons\">\n",
              "\n",
              "  <div class=\"colab-df-container\">\n",
              "    <button class=\"colab-df-convert\" onclick=\"convertToInteractive('df-19b09b6a-60b1-4c6d-a66b-52ae85461dc3')\"\n",
              "            title=\"Convert this dataframe to an interactive table.\"\n",
              "            style=\"display:none;\">\n",
              "\n",
              "  <svg xmlns=\"http://www.w3.org/2000/svg\" height=\"24px\" viewBox=\"0 -960 960 960\">\n",
              "    <path d=\"M120-120v-720h720v720H120Zm60-500h600v-160H180v160Zm220 220h160v-160H400v160Zm0 220h160v-160H400v160ZM180-400h160v-160H180v160Zm440 0h160v-160H620v160ZM180-180h160v-160H180v160Zm440 0h160v-160H620v160Z\"/>\n",
              "  </svg>\n",
              "    </button>\n",
              "\n",
              "  <style>\n",
              "    .colab-df-container {\n",
              "      display:flex;\n",
              "      gap: 12px;\n",
              "    }\n",
              "\n",
              "    .colab-df-convert {\n",
              "      background-color: #E8F0FE;\n",
              "      border: none;\n",
              "      border-radius: 50%;\n",
              "      cursor: pointer;\n",
              "      display: none;\n",
              "      fill: #1967D2;\n",
              "      height: 32px;\n",
              "      padding: 0 0 0 0;\n",
              "      width: 32px;\n",
              "    }\n",
              "\n",
              "    .colab-df-convert:hover {\n",
              "      background-color: #E2EBFA;\n",
              "      box-shadow: 0px 1px 2px rgba(60, 64, 67, 0.3), 0px 1px 3px 1px rgba(60, 64, 67, 0.15);\n",
              "      fill: #174EA6;\n",
              "    }\n",
              "\n",
              "    .colab-df-buttons div {\n",
              "      margin-bottom: 4px;\n",
              "    }\n",
              "\n",
              "    [theme=dark] .colab-df-convert {\n",
              "      background-color: #3B4455;\n",
              "      fill: #D2E3FC;\n",
              "    }\n",
              "\n",
              "    [theme=dark] .colab-df-convert:hover {\n",
              "      background-color: #434B5C;\n",
              "      box-shadow: 0px 1px 3px 1px rgba(0, 0, 0, 0.15);\n",
              "      filter: drop-shadow(0px 1px 2px rgba(0, 0, 0, 0.3));\n",
              "      fill: #FFFFFF;\n",
              "    }\n",
              "  </style>\n",
              "\n",
              "    <script>\n",
              "      const buttonEl =\n",
              "        document.querySelector('#df-19b09b6a-60b1-4c6d-a66b-52ae85461dc3 button.colab-df-convert');\n",
              "      buttonEl.style.display =\n",
              "        google.colab.kernel.accessAllowed ? 'block' : 'none';\n",
              "\n",
              "      async function convertToInteractive(key) {\n",
              "        const element = document.querySelector('#df-19b09b6a-60b1-4c6d-a66b-52ae85461dc3');\n",
              "        const dataTable =\n",
              "          await google.colab.kernel.invokeFunction('convertToInteractive',\n",
              "                                                    [key], {});\n",
              "        if (!dataTable) return;\n",
              "\n",
              "        const docLinkHtml = 'Like what you see? Visit the ' +\n",
              "          '<a target=\"_blank\" href=https://colab.research.google.com/notebooks/data_table.ipynb>data table notebook</a>'\n",
              "          + ' to learn more about interactive tables.';\n",
              "        element.innerHTML = '';\n",
              "        dataTable['output_type'] = 'display_data';\n",
              "        await google.colab.output.renderOutput(dataTable, element);\n",
              "        const docLink = document.createElement('div');\n",
              "        docLink.innerHTML = docLinkHtml;\n",
              "        element.appendChild(docLink);\n",
              "      }\n",
              "    </script>\n",
              "  </div>\n",
              "\n",
              "\n",
              "<div id=\"df-6ae36225-e3bc-439e-9fc1-66f79c872c12\">\n",
              "  <button class=\"colab-df-quickchart\" onclick=\"quickchart('df-6ae36225-e3bc-439e-9fc1-66f79c872c12')\"\n",
              "            title=\"Suggest charts\"\n",
              "            style=\"display:none;\">\n",
              "\n",
              "<svg xmlns=\"http://www.w3.org/2000/svg\" height=\"24px\"viewBox=\"0 0 24 24\"\n",
              "     width=\"24px\">\n",
              "    <g>\n",
              "        <path d=\"M19 3H5c-1.1 0-2 .9-2 2v14c0 1.1.9 2 2 2h14c1.1 0 2-.9 2-2V5c0-1.1-.9-2-2-2zM9 17H7v-7h2v7zm4 0h-2V7h2v10zm4 0h-2v-4h2v4z\"/>\n",
              "    </g>\n",
              "</svg>\n",
              "  </button>\n",
              "\n",
              "<style>\n",
              "  .colab-df-quickchart {\n",
              "      --bg-color: #E8F0FE;\n",
              "      --fill-color: #1967D2;\n",
              "      --hover-bg-color: #E2EBFA;\n",
              "      --hover-fill-color: #174EA6;\n",
              "      --disabled-fill-color: #AAA;\n",
              "      --disabled-bg-color: #DDD;\n",
              "  }\n",
              "\n",
              "  [theme=dark] .colab-df-quickchart {\n",
              "      --bg-color: #3B4455;\n",
              "      --fill-color: #D2E3FC;\n",
              "      --hover-bg-color: #434B5C;\n",
              "      --hover-fill-color: #FFFFFF;\n",
              "      --disabled-bg-color: #3B4455;\n",
              "      --disabled-fill-color: #666;\n",
              "  }\n",
              "\n",
              "  .colab-df-quickchart {\n",
              "    background-color: var(--bg-color);\n",
              "    border: none;\n",
              "    border-radius: 50%;\n",
              "    cursor: pointer;\n",
              "    display: none;\n",
              "    fill: var(--fill-color);\n",
              "    height: 32px;\n",
              "    padding: 0;\n",
              "    width: 32px;\n",
              "  }\n",
              "\n",
              "  .colab-df-quickchart:hover {\n",
              "    background-color: var(--hover-bg-color);\n",
              "    box-shadow: 0 1px 2px rgba(60, 64, 67, 0.3), 0 1px 3px 1px rgba(60, 64, 67, 0.15);\n",
              "    fill: var(--button-hover-fill-color);\n",
              "  }\n",
              "\n",
              "  .colab-df-quickchart-complete:disabled,\n",
              "  .colab-df-quickchart-complete:disabled:hover {\n",
              "    background-color: var(--disabled-bg-color);\n",
              "    fill: var(--disabled-fill-color);\n",
              "    box-shadow: none;\n",
              "  }\n",
              "\n",
              "  .colab-df-spinner {\n",
              "    border: 2px solid var(--fill-color);\n",
              "    border-color: transparent;\n",
              "    border-bottom-color: var(--fill-color);\n",
              "    animation:\n",
              "      spin 1s steps(1) infinite;\n",
              "  }\n",
              "\n",
              "  @keyframes spin {\n",
              "    0% {\n",
              "      border-color: transparent;\n",
              "      border-bottom-color: var(--fill-color);\n",
              "      border-left-color: var(--fill-color);\n",
              "    }\n",
              "    20% {\n",
              "      border-color: transparent;\n",
              "      border-left-color: var(--fill-color);\n",
              "      border-top-color: var(--fill-color);\n",
              "    }\n",
              "    30% {\n",
              "      border-color: transparent;\n",
              "      border-left-color: var(--fill-color);\n",
              "      border-top-color: var(--fill-color);\n",
              "      border-right-color: var(--fill-color);\n",
              "    }\n",
              "    40% {\n",
              "      border-color: transparent;\n",
              "      border-right-color: var(--fill-color);\n",
              "      border-top-color: var(--fill-color);\n",
              "    }\n",
              "    60% {\n",
              "      border-color: transparent;\n",
              "      border-right-color: var(--fill-color);\n",
              "    }\n",
              "    80% {\n",
              "      border-color: transparent;\n",
              "      border-right-color: var(--fill-color);\n",
              "      border-bottom-color: var(--fill-color);\n",
              "    }\n",
              "    90% {\n",
              "      border-color: transparent;\n",
              "      border-bottom-color: var(--fill-color);\n",
              "    }\n",
              "  }\n",
              "</style>\n",
              "\n",
              "  <script>\n",
              "    async function quickchart(key) {\n",
              "      const quickchartButtonEl =\n",
              "        document.querySelector('#' + key + ' button');\n",
              "      quickchartButtonEl.disabled = true;  // To prevent multiple clicks.\n",
              "      quickchartButtonEl.classList.add('colab-df-spinner');\n",
              "      try {\n",
              "        const charts = await google.colab.kernel.invokeFunction(\n",
              "            'suggestCharts', [key], {});\n",
              "      } catch (error) {\n",
              "        console.error('Error during call to suggestCharts:', error);\n",
              "      }\n",
              "      quickchartButtonEl.classList.remove('colab-df-spinner');\n",
              "      quickchartButtonEl.classList.add('colab-df-quickchart-complete');\n",
              "    }\n",
              "    (() => {\n",
              "      let quickchartButtonEl =\n",
              "        document.querySelector('#df-6ae36225-e3bc-439e-9fc1-66f79c872c12 button');\n",
              "      quickchartButtonEl.style.display =\n",
              "        google.colab.kernel.accessAllowed ? 'block' : 'none';\n",
              "    })();\n",
              "  </script>\n",
              "</div>\n",
              "\n",
              "  <div id=\"id_88bf24c0-c862-4ebe-be6f-ad9355f3b5e3\">\n",
              "    <style>\n",
              "      .colab-df-generate {\n",
              "        background-color: #E8F0FE;\n",
              "        border: none;\n",
              "        border-radius: 50%;\n",
              "        cursor: pointer;\n",
              "        display: none;\n",
              "        fill: #1967D2;\n",
              "        height: 32px;\n",
              "        padding: 0 0 0 0;\n",
              "        width: 32px;\n",
              "      }\n",
              "\n",
              "      .colab-df-generate:hover {\n",
              "        background-color: #E2EBFA;\n",
              "        box-shadow: 0px 1px 2px rgba(60, 64, 67, 0.3), 0px 1px 3px 1px rgba(60, 64, 67, 0.15);\n",
              "        fill: #174EA6;\n",
              "      }\n",
              "\n",
              "      [theme=dark] .colab-df-generate {\n",
              "        background-color: #3B4455;\n",
              "        fill: #D2E3FC;\n",
              "      }\n",
              "\n",
              "      [theme=dark] .colab-df-generate:hover {\n",
              "        background-color: #434B5C;\n",
              "        box-shadow: 0px 1px 3px 1px rgba(0, 0, 0, 0.15);\n",
              "        filter: drop-shadow(0px 1px 2px rgba(0, 0, 0, 0.3));\n",
              "        fill: #FFFFFF;\n",
              "      }\n",
              "    </style>\n",
              "    <button class=\"colab-df-generate\" onclick=\"generateWithVariable('inspection')\"\n",
              "            title=\"Generate code using this dataframe.\"\n",
              "            style=\"display:none;\">\n",
              "\n",
              "  <svg xmlns=\"http://www.w3.org/2000/svg\" height=\"24px\"viewBox=\"0 0 24 24\"\n",
              "       width=\"24px\">\n",
              "    <path d=\"M7,19H8.4L18.45,9,17,7.55,7,17.6ZM5,21V16.75L18.45,3.32a2,2,0,0,1,2.83,0l1.4,1.43a1.91,1.91,0,0,1,.58,1.4,1.91,1.91,0,0,1-.58,1.4L9.25,21ZM18.45,9,17,7.55Zm-12,3A5.31,5.31,0,0,0,4.9,8.1,5.31,5.31,0,0,0,1,6.5,5.31,5.31,0,0,0,4.9,4.9,5.31,5.31,0,0,0,6.5,1,5.31,5.31,0,0,0,8.1,4.9,5.31,5.31,0,0,0,12,6.5,5.46,5.46,0,0,0,6.5,12Z\"/>\n",
              "  </svg>\n",
              "    </button>\n",
              "    <script>\n",
              "      (() => {\n",
              "      const buttonEl =\n",
              "        document.querySelector('#id_88bf24c0-c862-4ebe-be6f-ad9355f3b5e3 button.colab-df-generate');\n",
              "      buttonEl.style.display =\n",
              "        google.colab.kernel.accessAllowed ? 'block' : 'none';\n",
              "\n",
              "      buttonEl.onclick = () => {\n",
              "        google.colab.notebook.generateWithVariable('inspection');\n",
              "      }\n",
              "      })();\n",
              "    </script>\n",
              "  </div>\n",
              "\n",
              "    </div>\n",
              "  </div>\n"
            ],
            "application/vnd.google.colaboratory.intrinsic+json": {
              "type": "dataframe",
              "variable_name": "inspection",
              "summary": "{\n  \"name\": \"inspection\",\n  \"rows\": 104,\n  \"fields\": [\n    {\n      \"column\": \"review\",\n      \"properties\": {\n        \"dtype\": \"category\",\n        \"num_unique_values\": 34,\n        \"samples\": [\n          \"the movie really disappoint me his mother will have more pain\",\n          \"i love it cant wait to see the next episode\",\n          \"really good to see km byung chul in a more comedic setting\"\n        ],\n        \"semantic_type\": \"\",\n        \"description\": \"\"\n      }\n    },\n    {\n      \"column\": \"Actual\",\n      \"properties\": {\n        \"dtype\": \"category\",\n        \"num_unique_values\": 2,\n        \"samples\": [\n          \"negative\",\n          \"positive\"\n        ],\n        \"semantic_type\": \"\",\n        \"description\": \"\"\n      }\n    },\n    {\n      \"column\": \"Predicted\",\n      \"properties\": {\n        \"dtype\": \"category\",\n        \"num_unique_values\": 2,\n        \"samples\": [\n          \"negative\",\n          \"positive\"\n        ],\n        \"semantic_type\": \"\",\n        \"description\": \"\"\n      }\n    }\n  ]\n}"
            }
          },
          "metadata": {},
          "execution_count": 49
        }
      ]
    },
    {
      "cell_type": "code",
      "source": [
        "##write code to print confusion matrix and evaluation report\n",
        "y_test=new_reviews['sentiment']\n",
        "cm=confusion_matrix(y_test, y_pred)\n",
        "print(cm)\n",
        "print(classification_report(y_test, y_pred))"
      ],
      "metadata": {
        "colab": {
          "base_uri": "https://localhost:8080/"
        },
        "id": "roj9cZS-PS_u",
        "outputId": "ad5266e2-6e0b-432f-aada-db3a397c8b3f"
      },
      "execution_count": 50,
      "outputs": [
        {
          "output_type": "stream",
          "name": "stdout",
          "text": [
            "[[23  6]\n",
            " [ 1 74]]\n",
            "              precision    recall  f1-score   support\n",
            "\n",
            "    negative       0.96      0.79      0.87        29\n",
            "    positive       0.93      0.99      0.95        75\n",
            "\n",
            "    accuracy                           0.93       104\n",
            "   macro avg       0.94      0.89      0.91       104\n",
            "weighted avg       0.93      0.93      0.93       104\n",
            "\n"
          ]
        }
      ]
    },
    {
      "cell_type": "markdown",
      "metadata": {
        "id": "Nrv8-AnX3hED"
      },
      "source": [
        "You can test it on a new data set, but make sure you do the same preprocessing first."
      ]
    },
    {
      "cell_type": "markdown",
      "metadata": {
        "id": "-Mtzwlk8yMEu"
      },
      "source": [
        "# **Congratulations**\n",
        "Well done, you have loaded and used your first pre-trained model!\n",
        "\n",
        "\n"
      ]
    }
  ],
  "metadata": {
    "colab": {
      "toc_visible": true,
      "provenance": []
    },
    "kernelspec": {
      "display_name": "Python 3",
      "name": "python3"
    },
    "language_info": {
      "name": "python"
    }
  },
  "nbformat": 4,
  "nbformat_minor": 0
}