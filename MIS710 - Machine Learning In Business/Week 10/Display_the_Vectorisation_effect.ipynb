{
  "cells": [
    {
      "cell_type": "markdown",
      "metadata": {
        "id": "view-in-github"
      },
      "source": [
        "<a href=\"https://colab.research.google.com/github/thuc-github/MIS710-T12023/blob/main/Week%2010/MIS710_Lab10_NLP_Solution.ipynb\" target=\"_parent\"><img src=\"https://colab.research.google.com/assets/colab-badge.svg\" alt=\"Open In Colab\"/></a>"
      ]
    },
    {
      "cell_type": "markdown",
      "metadata": {
        "id": "MNkJtLWoPpW7"
      },
      "source": [
        "\n",
        "# **MIS710 Extra Explanation of text vectorisation**\n",
        "Author: Associate Professor Lemai Nguyen\n",
        "\n",
        "Objectives:\n",
        "1. To explain key concepts related to vectorisation\n",
        "2. To visualise vector representation of text data\n",
        "\n",
        "Note: This is a supplementaty explanation, please read the lecture slides and watch the class recordings for full details.  \n",
        "\n"
      ]
    },
    {
      "cell_type": "markdown",
      "source": [
        "**Key concept:** Vectorisation is the process of converting text data into numerical form so that machine learning algorithms can understand and process it. Think of it like translating a language the computer doesn't understand (text) into a language it does (numbers).\n",
        "\n",
        "The purpose of this supplementary material is to help you 'visualise' the concept of vectorisation and what vectors 'look' like."
      ],
      "metadata": {
        "id": "WPp2XXDBWbPJ"
      }
    },
    {
      "cell_type": "markdown",
      "metadata": {
        "id": "SSX6_DT9CA72"
      },
      "source": [
        "# **1. Import Libraries and Functions**\n",
        "\n",
        "Import fundamental libraries and functions"
      ]
    },
    {
      "cell_type": "code",
      "execution_count": 81,
      "metadata": {
        "id": "lVf5buwkml_I"
      },
      "outputs": [],
      "source": [
        "# import libraries\n",
        "import pandas as pd #for data manipulation and analysis\n",
        "import numpy as   np\n",
        "\n",
        "import seaborn as sns\n",
        "import matplotlib.pyplot as plt"
      ]
    },
    {
      "cell_type": "markdown",
      "source": [
        "# **2. Load data**"
      ],
      "metadata": {
        "id": "8T_Oy5Q8XJ1e"
      }
    },
    {
      "cell_type": "markdown",
      "source": [
        "For simplicity, let's load a small dataset I collected, curated, and labelled for demonstration purposes."
      ],
      "metadata": {
        "id": "zZ3nlPqOXSHb"
      }
    },
    {
      "cell_type": "code",
      "source": [
        "records = pd.read_csv('https://raw.githubusercontent.com/VanLan0/MIS710-ML/main/Datasets/DrCha_reviews.csv')\n",
        "print(records)"
      ],
      "metadata": {
        "colab": {
          "base_uri": "https://localhost:8080/"
        },
        "id": "WULq6zXZBRAt",
        "outputId": "5765f055-03cf-4fdc-c8c9-862fcc7825d3"
      },
      "execution_count": 82,
      "outputs": [
        {
          "output_type": "stream",
          "name": "stdout",
          "text": [
            "                                               review sentiment\n",
            "0   I just watched the first episode and it’s 10/1...  positive\n",
            "1   this is going to be absolutely amazing I can't...  positive\n",
            "2   Accidentally watched the first episode, it was...  positive\n",
            "3                          This actress is hilarious!  positive\n",
            "4                             Looks very entertaining  positive\n",
            "5                         annoying unnecesarry  scene  negative\n",
            "6                           I love this drama so much  positive\n",
            "7   Too convoluted and over dramatic. the writers ...  negative\n",
            "8   Really good to see Km Byung Chul in a more com...  positive\n",
            "9                              disappointed, too long  negative\n",
            "10  I'm addicted to this movie, but If she doesn't...  positive\n",
            "11      I love it. Can't wait to see the next episode  positive\n",
            "12  The movie really disappoint me, his mother wil...  negative\n",
            "13  Loved the first 2 episodes and excited for the...  positive\n"
          ]
        }
      ]
    },
    {
      "cell_type": "markdown",
      "source": [
        "As text vectorisation results in a large sparse matrix, so for the demonstration purpose, let's get only several short reviews to view it.\n",
        "\n",
        "I'll explain what a sparse matrix is later. Let's keep your mind simple and clear for now :-)"
      ],
      "metadata": {
        "id": "-EbQV8pJX0dH"
      }
    },
    {
      "cell_type": "code",
      "source": [
        "records=records.iloc[3:7]\n",
        "print(records)"
      ],
      "metadata": {
        "colab": {
          "base_uri": "https://localhost:8080/"
        },
        "id": "bCJ1EgI6Pg8V",
        "outputId": "c1687541-8426-48c1-a717-6576bfa936cf"
      },
      "execution_count": 83,
      "outputs": [
        {
          "output_type": "stream",
          "name": "stdout",
          "text": [
            "                        review sentiment\n",
            "3   This actress is hilarious!  positive\n",
            "4      Looks very entertaining  positive\n",
            "5  annoying unnecesarry  scene  negative\n",
            "6    I love this drama so much  positive\n"
          ]
        }
      ]
    },
    {
      "cell_type": "markdown",
      "metadata": {
        "id": "bwWOEh8enmXM"
      },
      "source": [
        "# **2. Text pre-processing**\n",
        "* Text cleaning: Remove any HTML tags, punctuation, and special characters from the reviews.\n",
        "* Lowercasing: Convert all text to lowercase to ensure that words with the same spelling but different capitalization are treated as the same word.\n",
        "* Tokenization: Split the text into individual words or tokens.\n",
        "* Stopword removal: Remove common words such as \"the\", \"and\", \"a\", etc. that do not add much meaning to the text.\n",
        "* Stemming/Lemmatization: Reduce words to their base form to normalize the text and group together words with similar meanings."
      ]
    },
    {
      "cell_type": "markdown",
      "metadata": {
        "id": "98SJdiIqfS9j"
      },
      "source": [
        "re is a built-in Python module for working with regular expressions. Regular expressions are a combination of alphanumeric characters and special characters. For example, the . character in a regular expression matches any single character, while the * character matches zero or more occurrences of the preceding character."
      ]
    },
    {
      "cell_type": "markdown",
      "metadata": {
        "id": "uUy6NHmOig2u"
      },
      "source": [
        "## **Text cleaning**"
      ]
    },
    {
      "cell_type": "markdown",
      "source": [
        "### **Irrelevant data removal**"
      ],
      "metadata": {
        "id": "OZksYJ0ZUrag"
      }
    },
    {
      "cell_type": "code",
      "execution_count": 84,
      "metadata": {
        "id": "4rdKZCW9M-ru"
      },
      "outputs": [],
      "source": [
        "#import the Python module re to work with regular expressions\n",
        "import re"
      ]
    },
    {
      "cell_type": "markdown",
      "metadata": {
        "id": "OL2Lbi5JgCQq"
      },
      "source": [
        "The re.sub() method takes three arguments:\n",
        "\n",
        "1.   The regular expression pattern to search for.\n",
        "2.   The replacement string to use for each match of the pattern.\n",
        "3. The input string to perform the substitution on."
      ]
    },
    {
      "cell_type": "markdown",
      "metadata": {
        "id": "p0LDoVTgcD9S"
      },
      "source": [
        "Let's define our clean_text funtion that cleans a given text and returned the cleaned version of it."
      ]
    },
    {
      "cell_type": "code",
      "execution_count": 85,
      "metadata": {
        "id": "Vg9vMum1Tvwj"
      },
      "outputs": [],
      "source": [
        "# Define function to clean text\n",
        "def clean_text(text):\n",
        "  # Remove HTML tags\n",
        "  text = re.sub(r'<.*?>', '', text)\n",
        "  # Remove punctuation and special characters\n",
        "  text = re.sub(r'[^\\w\\s]', '', text)\n",
        "  # Remove extra whitespace\n",
        "  text = re.sub(r'\\s+', ' ', text).strip()\n",
        "  return text"
      ]
    },
    {
      "cell_type": "markdown",
      "metadata": {
        "id": "LXCazTSbh-_l"
      },
      "source": [
        "* The . (dot) metacharacter matches any single character except for a newline character.\n",
        "* The * (asterisk) metacharacter matches zero or more occurrences of the preceding character or group.\n",
        "\n",
        "* \\w matches any word character, which  includes all alphabetic characters (both upper- and lowercase) and digits, and the underscore character.\n",
        "\n",
        "* \\s matches any whitespace character, which includes spaces, tabs, newlines, and other types of whitespace.\n",
        "\n",
        "* \\s+ matches one or more consecutive whitespace characters. The + (plus) is a metacharacter that means \"one or more occurrences of the preceding pattern\"."
      ]
    },
    {
      "cell_type": "markdown",
      "metadata": {
        "id": "YxlBEZHHSlqd"
      },
      "source": [
        "We have defined the clean_text function, now let's write your code for the whole reviews to apply it.\n",
        "\n",
        "Pandas DataFrame apply() function can be used to apply a function along an axis. We can direct  the column ['review'] to apply the clean_text function. It will apply the function for all values in this column.\n",
        "https://www.w3schools.com/python/pandas/ref_df_apply.asp"
      ]
    },
    {
      "cell_type": "code",
      "execution_count": 86,
      "metadata": {
        "id": "617KwFEparD0",
        "colab": {
          "base_uri": "https://localhost:8080/"
        },
        "outputId": "ce602079-decd-4de6-bcf7-b79b7dd6bbfa"
      },
      "outputs": [
        {
          "output_type": "stream",
          "name": "stderr",
          "text": [
            "<ipython-input-86-a05eee017c6c>:2: SettingWithCopyWarning: \n",
            "A value is trying to be set on a copy of a slice from a DataFrame.\n",
            "Try using .loc[row_indexer,col_indexer] = value instead\n",
            "\n",
            "See the caveats in the documentation: https://pandas.pydata.org/pandas-docs/stable/user_guide/indexing.html#returning-a-view-versus-a-copy\n",
            "  records['review']= records['review'].apply(clean_text)\n"
          ]
        }
      ],
      "source": [
        "#let's get reviews to run clean_text\n",
        "records['review']= records['review'].apply(clean_text)"
      ]
    },
    {
      "cell_type": "code",
      "execution_count": 87,
      "metadata": {
        "colab": {
          "base_uri": "https://localhost:8080/"
        },
        "id": "pIVp1LsslKNc",
        "outputId": "747ca451-7216-46b7-dbb0-20690459666b"
      },
      "outputs": [
        {
          "output_type": "execute_result",
          "data": {
            "text/plain": [
              "3     This actress is hilarious\n",
              "4       Looks very entertaining\n",
              "5    annoying unnecesarry scene\n",
              "6     I love this drama so much\n",
              "Name: review, dtype: object"
            ]
          },
          "metadata": {},
          "execution_count": 87
        }
      ],
      "source": [
        "#You can check to have a feel:\n",
        "records['review']"
      ]
    },
    {
      "cell_type": "markdown",
      "metadata": {
        "id": "VwO6kRX5jCEU"
      },
      "source": [
        "### **Lowercasing**"
      ]
    },
    {
      "cell_type": "code",
      "execution_count": 88,
      "metadata": {
        "id": "qnxC0lZekw30"
      },
      "outputs": [],
      "source": [
        "#define the lowercasing function to turn all letters into lowercases.\n",
        "def lowercasing(text):\n",
        "  # Convert to lowercase\n",
        "  text = text.lower()\n",
        "  return text"
      ]
    },
    {
      "cell_type": "code",
      "execution_count": 89,
      "metadata": {
        "id": "_iMe_vQYW-_3",
        "colab": {
          "base_uri": "https://localhost:8080/"
        },
        "outputId": "5222e6fc-ef3e-4685-91a9-20d3d7c4a0af"
      },
      "outputs": [
        {
          "output_type": "stream",
          "name": "stderr",
          "text": [
            "<ipython-input-89-f2ff2ec3816b>:2: SettingWithCopyWarning: \n",
            "A value is trying to be set on a copy of a slice from a DataFrame.\n",
            "Try using .loc[row_indexer,col_indexer] = value instead\n",
            "\n",
            "See the caveats in the documentation: https://pandas.pydata.org/pandas-docs/stable/user_guide/indexing.html#returning-a-view-versus-a-copy\n",
            "  records['review']= records['review'].apply(lowercasing)\n"
          ]
        }
      ],
      "source": [
        "# let's get reviews to run lowercasing\n",
        "records['review']= records['review'].apply(lowercasing)"
      ]
    },
    {
      "cell_type": "code",
      "execution_count": 90,
      "metadata": {
        "colab": {
          "base_uri": "https://localhost:8080/"
        },
        "id": "fjRAdIqkfNV5",
        "outputId": "1822d15f-c3c3-436c-faaf-4ad030a583a5"
      },
      "outputs": [
        {
          "output_type": "execute_result",
          "data": {
            "text/plain": [
              "3     this actress is hilarious\n",
              "4       looks very entertaining\n",
              "5    annoying unnecesarry scene\n",
              "6     i love this drama so much\n",
              "Name: review, dtype: object"
            ]
          },
          "metadata": {},
          "execution_count": 90
        }
      ],
      "source": [
        "#You can check to have a feel:\n",
        "records['review']"
      ]
    },
    {
      "cell_type": "markdown",
      "source": [
        "## **Linguistic preprocessing**"
      ],
      "metadata": {
        "id": "Ok_o_uqFURVb"
      }
    },
    {
      "cell_type": "markdown",
      "metadata": {
        "id": "KSxeSConqGTm"
      },
      "source": [
        "#### **Tokenization, Stop word removal, and Lemmatization**\n",
        "\n",
        "* Tokenization breaks the text into individual words or tokens, and then stemming/lemmatization is applied on each token individually to obtain their root form.\n",
        "\n",
        "* Stemming can help in reducing  words to their root form, which can help in reducing the number of unique words and therefore reducing the size of the vocabulary. For example: studies, study, studied, studying -> studi; flew -> fle; import PorterStemmer for stemming.\n",
        "\n",
        "* Lemmatization reduces a word to its base or dictionary form, which can improve the accuracy of the analysis; For example: studies, study, studied, studying -> study; flew -> fly;  import WordNetLemmatizer for lemmatization."
      ]
    },
    {
      "cell_type": "markdown",
      "metadata": {
        "id": "iuiZf1eqts6o"
      },
      "source": [
        "NLTK (Natural Language Toolkit) is a Python library used for natural language processing (NLP) tasks such as tokenization, stemming, lemmatization, part-of-speech tagging, and more."
      ]
    },
    {
      "cell_type": "code",
      "execution_count": 91,
      "metadata": {
        "id": "iUsQgYI9xnDS"
      },
      "outputs": [],
      "source": [
        "#import NLTK and functions for Tokenization, Stemming and Lemmatization\n",
        "import nltk\n",
        "from nltk.tokenize import word_tokenize\n",
        "from nltk.stem import PorterStemmer, WordNetLemmatizer\n",
        "\n",
        "#import NLTK stopwords from its corpus\n",
        "from nltk.corpus import stopwords"
      ]
    },
    {
      "cell_type": "markdown",
      "metadata": {
        "id": "52I6GXS3yPkz"
      },
      "source": [
        "Punkt and WordNet are both modules in the Natural Language Toolkit (nltk) library in Python for natural language processing tasks.\n",
        "\n",
        "* Punkt is a module used for tokenization. The Punkt module is trained on large corpora and uses unsupervised learning algorithms to tokenize sentences effectively even when presented with challenging text.\n",
        "\n",
        "* WordNet is a large lexical database of English words for lemmatization."
      ]
    },
    {
      "cell_type": "code",
      "execution_count": 92,
      "metadata": {
        "colab": {
          "base_uri": "https://localhost:8080/"
        },
        "id": "CAHXWwLnzBsL",
        "outputId": "46c1e557-670d-4cbe-b7c0-99d0a924e4b6"
      },
      "outputs": [
        {
          "output_type": "stream",
          "name": "stderr",
          "text": [
            "[nltk_data] Downloading package punkt to /root/nltk_data...\n",
            "[nltk_data]   Package punkt is already up-to-date!\n",
            "[nltk_data] Downloading package wordnet to /root/nltk_data...\n",
            "[nltk_data]   Package wordnet is already up-to-date!\n",
            "[nltk_data] Downloading package stopwords to /root/nltk_data...\n",
            "[nltk_data]   Package stopwords is already up-to-date!\n"
          ]
        },
        {
          "output_type": "execute_result",
          "data": {
            "text/plain": [
              "True"
            ]
          },
          "metadata": {},
          "execution_count": 92
        }
      ],
      "source": [
        "nltk.download('punkt')\n",
        "nltk.download('wordnet')\n",
        "nltk.download('stopwords')"
      ]
    },
    {
      "cell_type": "code",
      "execution_count": 93,
      "metadata": {
        "id": "g6hjBCZlbFMB"
      },
      "outputs": [],
      "source": [
        "# define stopwords without negation words\n",
        "stop_words = set(stopwords.words('english'))\n",
        "negation_words = {'no', 'not', 'nor', 'neither', 'none', 'never'}\n",
        "filtered_words = [word for word in stop_words if word not in negation_words]"
      ]
    },
    {
      "cell_type": "markdown",
      "metadata": {
        "id": "5ikVZmEIQaqK"
      },
      "source": [
        "We can remove stopwords—before, during, or after lemmatization—often depending on the specific use case, the nature of the text data, and the desired outcome. Here we combines two steps into one for efficiency.\n",
        "\n",
        "Below, we lemmatize words if they are not in filtered words."
      ]
    },
    {
      "cell_type": "code",
      "execution_count": 94,
      "metadata": {
        "id": "2OtN2q9NbDdV"
      },
      "outputs": [],
      "source": [
        "#define a function to perform tokenization, stemming or lemmatization, use PorterStemmer for stemming\n",
        "def tokenize_lemmatize(text):\n",
        "  #tokenization\n",
        "  tokens = nltk.word_tokenize(text)\n",
        "\n",
        "  #initialize stemmer OR lemmatizer\n",
        "  lemmatizer = WordNetLemmatizer()\n",
        "\n",
        "  # Filtering out the stopwords and lemmatizing the tokens\n",
        "  lemmatized_tokens = [lemmatizer.lemmatize(token) for token in tokens if token not in filtered_words and token.lower() not in negation_words]\n",
        "  return ' '.join(lemmatized_tokens)"
      ]
    },
    {
      "cell_type": "markdown",
      "metadata": {
        "id": "M5EZIewXlWOm"
      },
      "source": [
        "\n",
        "**Alternatively**, you can use stemming\n",
        "\n",
        "\n",
        "```\n",
        "#define a function to perform tokenization and stemming\n",
        "def tokenize_stem(text):\n",
        "  #tokenization\n",
        "  tokens = nltk.word_tokenize(text.lower())\n",
        "  \n",
        "  #initialize stemmer\n",
        "  stemmer = PorterStemmer()\n",
        "\n",
        "  # Filtering out the stopwords and stem the tokens\n",
        "  stemmed_tokens = [stemmer.stem(token) for token in tokens]\n",
        "\n",
        "  return ' '.join(lemmatized_tokens)\n",
        "```\n",
        "\n"
      ]
    },
    {
      "cell_type": "code",
      "execution_count": 95,
      "metadata": {
        "id": "1BIBD4tJzPKI"
      },
      "outputs": [],
      "source": [
        "# Tokenize and lemmatize the review text\n",
        "processed_text = records['review'].apply(tokenize_lemmatize)"
      ]
    },
    {
      "cell_type": "code",
      "execution_count": 96,
      "metadata": {
        "colab": {
          "base_uri": "https://localhost:8080/"
        },
        "id": "uQlMt6CFZwBE",
        "outputId": "8e1efb75-0afe-471f-de32-09562747c680"
      },
      "outputs": [
        {
          "output_type": "execute_result",
          "data": {
            "text/plain": [
              "3             actress hilarious\n",
              "4             look entertaining\n",
              "5    annoying unnecesarry scene\n",
              "6               love drama much\n",
              "Name: review, dtype: object"
            ]
          },
          "metadata": {},
          "execution_count": 96
        }
      ],
      "source": [
        "#now you can see the effect:\n",
        "processed_text"
      ]
    },
    {
      "cell_type": "markdown",
      "metadata": {
        "id": "cwvWhzqRTfnw"
      },
      "source": [
        "**Note**: The WordNetLemmatizer from NLTK relies on the WordNet database. By default, the lemmatizer treats every word as a noun unless told otherwise. To get the correct lemma, e.g. gerund forms of verbs, we need to provide the part-of-speech (POS) tag to the lemmatizer. More processing is needed."
      ]
    },
    {
      "cell_type": "markdown",
      "source": [
        "# **3. Text representation**\n",
        "Text **representation** involves the process of **vectorisation**, wherein textual data is transformed into numerical form for machine learning algorithms."
      ],
      "metadata": {
        "id": "CKL8j0A6U1Ev"
      }
    },
    {
      "cell_type": "markdown",
      "metadata": {
        "id": "-GYEKH2RYWP3"
      },
      "source": [
        "**Preventing vocabulary leakage**\n",
        "\n",
        "Note: If we vectorize the whole dataset before splitting into training and test sets, there is a risk of data leakage. This is because the information from the whole dataset (including test set) is used to prepare the training dataset.\n",
        "\n",
        "To prevent this risk, we split the dataset first. We fit the initialised vectorizer only on the training data. Use this fitted vectorizer to transform both the training and test data. This is similar to how we scaled datasets in previous labs.\n",
        "\n",
        "For the purpose of demonstrating the vectorisation concept, we skip data split."
      ]
    },
    {
      "cell_type": "markdown",
      "metadata": {
        "id": "3twV5injZ3AI"
      },
      "source": [
        "#### **Feature Selection**"
      ]
    },
    {
      "cell_type": "code",
      "execution_count": 97,
      "metadata": {
        "id": "dqsSao1QmGRj"
      },
      "outputs": [],
      "source": [
        "X=processed_text\n"
      ]
    },
    {
      "cell_type": "code",
      "source": [
        "X"
      ],
      "metadata": {
        "colab": {
          "base_uri": "https://localhost:8080/"
        },
        "id": "BbrWxNTnbK10",
        "outputId": "43c3263c-2069-4b44-f150-6374f089173d"
      },
      "execution_count": 98,
      "outputs": [
        {
          "output_type": "execute_result",
          "data": {
            "text/plain": [
              "3             actress hilarious\n",
              "4             look entertaining\n",
              "5    annoying unnecesarry scene\n",
              "6               love drama much\n",
              "Name: review, dtype: object"
            ]
          },
          "metadata": {},
          "execution_count": 98
        }
      ]
    },
    {
      "cell_type": "markdown",
      "source": [
        "### **Vectorisation**\n",
        "\n",
        "There are various methods to vectorise text, turning it into a numerical representation suitable for machine learning tasks. In this context, we're using TF-IDF vectorisation. TF-IDF stands for **Term Frequency-Inverse Document Frequency**. With TF-IDF, the importance of each word is determined based on its frequency in a document (e.g., a review) compared to its prevalence in the entire dataset (i.e., all reviews). Words that appear frequently in one document (or review) but are rare across the entire dataset receive higher weights, indicating their significance in characterising that particular document. For instance, this can highlight someone expressing a strong view."
      ],
      "metadata": {
        "id": "3XASkPcKVb6i"
      }
    },
    {
      "cell_type": "code",
      "execution_count": 99,
      "metadata": {
        "id": "FrsZg0lybPbO"
      },
      "outputs": [],
      "source": [
        "from sklearn.feature_extraction.text import TfidfVectorizer\n",
        "#Let's use 1-grams first\n",
        "tfidf_vectorizer = TfidfVectorizer(ngram_range=(1, 1))"
      ]
    },
    {
      "cell_type": "code",
      "execution_count": 100,
      "metadata": {
        "id": "saxzDuhRbPbP"
      },
      "outputs": [],
      "source": [
        "X_tfidf = tfidf_vectorizer.fit_transform(X)\n"
      ]
    },
    {
      "cell_type": "markdown",
      "source": [
        "## **Sparse matrix**\n",
        "\n",
        "A 'sparse matrix' is a matrix where the majority of its values are zeros (or default values). The outcome of text vectorisation often results in such a sparse matrix because not every document (or review) will contain every word from the vocabulary (unique tokens or words).\n",
        "\n",
        "To view the matrix (consiting of columns and vectors), let's turn it into a dense dataframe. A dense dataframe refers to a tabular representation where all data is explicitly stored, as opposed to a sparse format where only non-default values (like non-zero entries) are specifically represented.\n",
        "\n",
        "Each review is represented as a vector consisting of TF-IDF values for each token."
      ],
      "metadata": {
        "id": "xaJB1P4sVoUO"
      }
    },
    {
      "cell_type": "code",
      "source": [
        "# Convert the result to a dense DataFrame so that we can view the vectors\n",
        "df_tfidf = pd.DataFrame(X_tfidf.toarray(), columns=tfidf_vectorizer.get_feature_names_out())\n",
        "\n",
        "df_tfidf\n"
      ],
      "metadata": {
        "colab": {
          "base_uri": "https://localhost:8080/",
          "height": 175
        },
        "id": "3Vr583s3fy3e",
        "outputId": "0d785ba1-d165-49e6-e34d-19faf7623c0a"
      },
      "execution_count": 101,
      "outputs": [
        {
          "output_type": "execute_result",
          "data": {
            "text/plain": [
              "    actress  annoying    drama  entertaining  hilarious      look     love  \\\n",
              "0  0.707107   0.00000  0.00000      0.000000   0.707107  0.000000  0.00000   \n",
              "1  0.000000   0.00000  0.00000      0.707107   0.000000  0.707107  0.00000   \n",
              "2  0.000000   0.57735  0.00000      0.000000   0.000000  0.000000  0.00000   \n",
              "3  0.000000   0.00000  0.57735      0.000000   0.000000  0.000000  0.57735   \n",
              "\n",
              "      much    scene  unnecesarry  \n",
              "0  0.00000  0.00000      0.00000  \n",
              "1  0.00000  0.00000      0.00000  \n",
              "2  0.00000  0.57735      0.57735  \n",
              "3  0.57735  0.00000      0.00000  "
            ],
            "text/html": [
              "\n",
              "  <div id=\"df-59a3afab-f746-49e1-b67c-50291030b261\" class=\"colab-df-container\">\n",
              "    <div>\n",
              "<style scoped>\n",
              "    .dataframe tbody tr th:only-of-type {\n",
              "        vertical-align: middle;\n",
              "    }\n",
              "\n",
              "    .dataframe tbody tr th {\n",
              "        vertical-align: top;\n",
              "    }\n",
              "\n",
              "    .dataframe thead th {\n",
              "        text-align: right;\n",
              "    }\n",
              "</style>\n",
              "<table border=\"1\" class=\"dataframe\">\n",
              "  <thead>\n",
              "    <tr style=\"text-align: right;\">\n",
              "      <th></th>\n",
              "      <th>actress</th>\n",
              "      <th>annoying</th>\n",
              "      <th>drama</th>\n",
              "      <th>entertaining</th>\n",
              "      <th>hilarious</th>\n",
              "      <th>look</th>\n",
              "      <th>love</th>\n",
              "      <th>much</th>\n",
              "      <th>scene</th>\n",
              "      <th>unnecesarry</th>\n",
              "    </tr>\n",
              "  </thead>\n",
              "  <tbody>\n",
              "    <tr>\n",
              "      <th>0</th>\n",
              "      <td>0.707107</td>\n",
              "      <td>0.00000</td>\n",
              "      <td>0.00000</td>\n",
              "      <td>0.000000</td>\n",
              "      <td>0.707107</td>\n",
              "      <td>0.000000</td>\n",
              "      <td>0.00000</td>\n",
              "      <td>0.00000</td>\n",
              "      <td>0.00000</td>\n",
              "      <td>0.00000</td>\n",
              "    </tr>\n",
              "    <tr>\n",
              "      <th>1</th>\n",
              "      <td>0.000000</td>\n",
              "      <td>0.00000</td>\n",
              "      <td>0.00000</td>\n",
              "      <td>0.707107</td>\n",
              "      <td>0.000000</td>\n",
              "      <td>0.707107</td>\n",
              "      <td>0.00000</td>\n",
              "      <td>0.00000</td>\n",
              "      <td>0.00000</td>\n",
              "      <td>0.00000</td>\n",
              "    </tr>\n",
              "    <tr>\n",
              "      <th>2</th>\n",
              "      <td>0.000000</td>\n",
              "      <td>0.57735</td>\n",
              "      <td>0.00000</td>\n",
              "      <td>0.000000</td>\n",
              "      <td>0.000000</td>\n",
              "      <td>0.000000</td>\n",
              "      <td>0.00000</td>\n",
              "      <td>0.00000</td>\n",
              "      <td>0.57735</td>\n",
              "      <td>0.57735</td>\n",
              "    </tr>\n",
              "    <tr>\n",
              "      <th>3</th>\n",
              "      <td>0.000000</td>\n",
              "      <td>0.00000</td>\n",
              "      <td>0.57735</td>\n",
              "      <td>0.000000</td>\n",
              "      <td>0.000000</td>\n",
              "      <td>0.000000</td>\n",
              "      <td>0.57735</td>\n",
              "      <td>0.57735</td>\n",
              "      <td>0.00000</td>\n",
              "      <td>0.00000</td>\n",
              "    </tr>\n",
              "  </tbody>\n",
              "</table>\n",
              "</div>\n",
              "    <div class=\"colab-df-buttons\">\n",
              "\n",
              "  <div class=\"colab-df-container\">\n",
              "    <button class=\"colab-df-convert\" onclick=\"convertToInteractive('df-59a3afab-f746-49e1-b67c-50291030b261')\"\n",
              "            title=\"Convert this dataframe to an interactive table.\"\n",
              "            style=\"display:none;\">\n",
              "\n",
              "  <svg xmlns=\"http://www.w3.org/2000/svg\" height=\"24px\" viewBox=\"0 -960 960 960\">\n",
              "    <path d=\"M120-120v-720h720v720H120Zm60-500h600v-160H180v160Zm220 220h160v-160H400v160Zm0 220h160v-160H400v160ZM180-400h160v-160H180v160Zm440 0h160v-160H620v160ZM180-180h160v-160H180v160Zm440 0h160v-160H620v160Z\"/>\n",
              "  </svg>\n",
              "    </button>\n",
              "\n",
              "  <style>\n",
              "    .colab-df-container {\n",
              "      display:flex;\n",
              "      gap: 12px;\n",
              "    }\n",
              "\n",
              "    .colab-df-convert {\n",
              "      background-color: #E8F0FE;\n",
              "      border: none;\n",
              "      border-radius: 50%;\n",
              "      cursor: pointer;\n",
              "      display: none;\n",
              "      fill: #1967D2;\n",
              "      height: 32px;\n",
              "      padding: 0 0 0 0;\n",
              "      width: 32px;\n",
              "    }\n",
              "\n",
              "    .colab-df-convert:hover {\n",
              "      background-color: #E2EBFA;\n",
              "      box-shadow: 0px 1px 2px rgba(60, 64, 67, 0.3), 0px 1px 3px 1px rgba(60, 64, 67, 0.15);\n",
              "      fill: #174EA6;\n",
              "    }\n",
              "\n",
              "    .colab-df-buttons div {\n",
              "      margin-bottom: 4px;\n",
              "    }\n",
              "\n",
              "    [theme=dark] .colab-df-convert {\n",
              "      background-color: #3B4455;\n",
              "      fill: #D2E3FC;\n",
              "    }\n",
              "\n",
              "    [theme=dark] .colab-df-convert:hover {\n",
              "      background-color: #434B5C;\n",
              "      box-shadow: 0px 1px 3px 1px rgba(0, 0, 0, 0.15);\n",
              "      filter: drop-shadow(0px 1px 2px rgba(0, 0, 0, 0.3));\n",
              "      fill: #FFFFFF;\n",
              "    }\n",
              "  </style>\n",
              "\n",
              "    <script>\n",
              "      const buttonEl =\n",
              "        document.querySelector('#df-59a3afab-f746-49e1-b67c-50291030b261 button.colab-df-convert');\n",
              "      buttonEl.style.display =\n",
              "        google.colab.kernel.accessAllowed ? 'block' : 'none';\n",
              "\n",
              "      async function convertToInteractive(key) {\n",
              "        const element = document.querySelector('#df-59a3afab-f746-49e1-b67c-50291030b261');\n",
              "        const dataTable =\n",
              "          await google.colab.kernel.invokeFunction('convertToInteractive',\n",
              "                                                    [key], {});\n",
              "        if (!dataTable) return;\n",
              "\n",
              "        const docLinkHtml = 'Like what you see? Visit the ' +\n",
              "          '<a target=\"_blank\" href=https://colab.research.google.com/notebooks/data_table.ipynb>data table notebook</a>'\n",
              "          + ' to learn more about interactive tables.';\n",
              "        element.innerHTML = '';\n",
              "        dataTable['output_type'] = 'display_data';\n",
              "        await google.colab.output.renderOutput(dataTable, element);\n",
              "        const docLink = document.createElement('div');\n",
              "        docLink.innerHTML = docLinkHtml;\n",
              "        element.appendChild(docLink);\n",
              "      }\n",
              "    </script>\n",
              "  </div>\n",
              "\n",
              "\n",
              "<div id=\"df-541e27f7-6dec-4f0a-aafd-7d0b330fc33a\">\n",
              "  <button class=\"colab-df-quickchart\" onclick=\"quickchart('df-541e27f7-6dec-4f0a-aafd-7d0b330fc33a')\"\n",
              "            title=\"Suggest charts.\"\n",
              "            style=\"display:none;\">\n",
              "\n",
              "<svg xmlns=\"http://www.w3.org/2000/svg\" height=\"24px\"viewBox=\"0 0 24 24\"\n",
              "     width=\"24px\">\n",
              "    <g>\n",
              "        <path d=\"M19 3H5c-1.1 0-2 .9-2 2v14c0 1.1.9 2 2 2h14c1.1 0 2-.9 2-2V5c0-1.1-.9-2-2-2zM9 17H7v-7h2v7zm4 0h-2V7h2v10zm4 0h-2v-4h2v4z\"/>\n",
              "    </g>\n",
              "</svg>\n",
              "  </button>\n",
              "\n",
              "<style>\n",
              "  .colab-df-quickchart {\n",
              "      --bg-color: #E8F0FE;\n",
              "      --fill-color: #1967D2;\n",
              "      --hover-bg-color: #E2EBFA;\n",
              "      --hover-fill-color: #174EA6;\n",
              "      --disabled-fill-color: #AAA;\n",
              "      --disabled-bg-color: #DDD;\n",
              "  }\n",
              "\n",
              "  [theme=dark] .colab-df-quickchart {\n",
              "      --bg-color: #3B4455;\n",
              "      --fill-color: #D2E3FC;\n",
              "      --hover-bg-color: #434B5C;\n",
              "      --hover-fill-color: #FFFFFF;\n",
              "      --disabled-bg-color: #3B4455;\n",
              "      --disabled-fill-color: #666;\n",
              "  }\n",
              "\n",
              "  .colab-df-quickchart {\n",
              "    background-color: var(--bg-color);\n",
              "    border: none;\n",
              "    border-radius: 50%;\n",
              "    cursor: pointer;\n",
              "    display: none;\n",
              "    fill: var(--fill-color);\n",
              "    height: 32px;\n",
              "    padding: 0;\n",
              "    width: 32px;\n",
              "  }\n",
              "\n",
              "  .colab-df-quickchart:hover {\n",
              "    background-color: var(--hover-bg-color);\n",
              "    box-shadow: 0 1px 2px rgba(60, 64, 67, 0.3), 0 1px 3px 1px rgba(60, 64, 67, 0.15);\n",
              "    fill: var(--button-hover-fill-color);\n",
              "  }\n",
              "\n",
              "  .colab-df-quickchart-complete:disabled,\n",
              "  .colab-df-quickchart-complete:disabled:hover {\n",
              "    background-color: var(--disabled-bg-color);\n",
              "    fill: var(--disabled-fill-color);\n",
              "    box-shadow: none;\n",
              "  }\n",
              "\n",
              "  .colab-df-spinner {\n",
              "    border: 2px solid var(--fill-color);\n",
              "    border-color: transparent;\n",
              "    border-bottom-color: var(--fill-color);\n",
              "    animation:\n",
              "      spin 1s steps(1) infinite;\n",
              "  }\n",
              "\n",
              "  @keyframes spin {\n",
              "    0% {\n",
              "      border-color: transparent;\n",
              "      border-bottom-color: var(--fill-color);\n",
              "      border-left-color: var(--fill-color);\n",
              "    }\n",
              "    20% {\n",
              "      border-color: transparent;\n",
              "      border-left-color: var(--fill-color);\n",
              "      border-top-color: var(--fill-color);\n",
              "    }\n",
              "    30% {\n",
              "      border-color: transparent;\n",
              "      border-left-color: var(--fill-color);\n",
              "      border-top-color: var(--fill-color);\n",
              "      border-right-color: var(--fill-color);\n",
              "    }\n",
              "    40% {\n",
              "      border-color: transparent;\n",
              "      border-right-color: var(--fill-color);\n",
              "      border-top-color: var(--fill-color);\n",
              "    }\n",
              "    60% {\n",
              "      border-color: transparent;\n",
              "      border-right-color: var(--fill-color);\n",
              "    }\n",
              "    80% {\n",
              "      border-color: transparent;\n",
              "      border-right-color: var(--fill-color);\n",
              "      border-bottom-color: var(--fill-color);\n",
              "    }\n",
              "    90% {\n",
              "      border-color: transparent;\n",
              "      border-bottom-color: var(--fill-color);\n",
              "    }\n",
              "  }\n",
              "</style>\n",
              "\n",
              "  <script>\n",
              "    async function quickchart(key) {\n",
              "      const quickchartButtonEl =\n",
              "        document.querySelector('#' + key + ' button');\n",
              "      quickchartButtonEl.disabled = true;  // To prevent multiple clicks.\n",
              "      quickchartButtonEl.classList.add('colab-df-spinner');\n",
              "      try {\n",
              "        const charts = await google.colab.kernel.invokeFunction(\n",
              "            'suggestCharts', [key], {});\n",
              "      } catch (error) {\n",
              "        console.error('Error during call to suggestCharts:', error);\n",
              "      }\n",
              "      quickchartButtonEl.classList.remove('colab-df-spinner');\n",
              "      quickchartButtonEl.classList.add('colab-df-quickchart-complete');\n",
              "    }\n",
              "    (() => {\n",
              "      let quickchartButtonEl =\n",
              "        document.querySelector('#df-541e27f7-6dec-4f0a-aafd-7d0b330fc33a button');\n",
              "      quickchartButtonEl.style.display =\n",
              "        google.colab.kernel.accessAllowed ? 'block' : 'none';\n",
              "    })();\n",
              "  </script>\n",
              "</div>\n",
              "    </div>\n",
              "  </div>\n"
            ]
          },
          "metadata": {},
          "execution_count": 101
        }
      ]
    },
    {
      "cell_type": "code",
      "source": [
        "df_tfidf.info()"
      ],
      "metadata": {
        "colab": {
          "base_uri": "https://localhost:8080/"
        },
        "id": "JTw0Si9FQ3pF",
        "outputId": "3c274009-e44e-431e-c6e3-2690f0e81608"
      },
      "execution_count": 102,
      "outputs": [
        {
          "output_type": "stream",
          "name": "stdout",
          "text": [
            "<class 'pandas.core.frame.DataFrame'>\n",
            "RangeIndex: 4 entries, 0 to 3\n",
            "Data columns (total 10 columns):\n",
            " #   Column        Non-Null Count  Dtype  \n",
            "---  ------        --------------  -----  \n",
            " 0   actress       4 non-null      float64\n",
            " 1   annoying      4 non-null      float64\n",
            " 2   drama         4 non-null      float64\n",
            " 3   entertaining  4 non-null      float64\n",
            " 4   hilarious     4 non-null      float64\n",
            " 5   look          4 non-null      float64\n",
            " 6   love          4 non-null      float64\n",
            " 7   much          4 non-null      float64\n",
            " 8   scene         4 non-null      float64\n",
            " 9   unnecesarry   4 non-null      float64\n",
            "dtypes: float64(10)\n",
            "memory usage: 448.0 bytes\n"
          ]
        }
      ]
    },
    {
      "cell_type": "code",
      "source": [
        "tfidf_vectorizer.vocabulary_"
      ],
      "metadata": {
        "colab": {
          "base_uri": "https://localhost:8080/"
        },
        "id": "jLsenyySbcZm",
        "outputId": "14f0b30d-0906-4511-f193-4dc2422c93d3"
      },
      "execution_count": 103,
      "outputs": [
        {
          "output_type": "execute_result",
          "data": {
            "text/plain": [
              "{'actress': 0,\n",
              " 'hilarious': 4,\n",
              " 'look': 5,\n",
              " 'entertaining': 3,\n",
              " 'annoying': 1,\n",
              " 'unnecesarry': 9,\n",
              " 'scene': 8,\n",
              " 'love': 6,\n",
              " 'drama': 2,\n",
              " 'much': 7}"
            ]
          },
          "metadata": {},
          "execution_count": 103
        }
      ]
    },
    {
      "cell_type": "code",
      "execution_count": 104,
      "metadata": {
        "id": "snlmej6RT7Yr"
      },
      "outputs": [],
      "source": [
        "from sklearn.feature_extraction.text import TfidfVectorizer\n",
        "#Let's have 1-grams and 2-grams\n",
        "tfidf_vectorizer = TfidfVectorizer(ngram_range=(1, 2))"
      ]
    },
    {
      "cell_type": "code",
      "execution_count": 105,
      "metadata": {
        "id": "mPZquCcxT7Ys"
      },
      "outputs": [],
      "source": [
        "X_tfidf = tfidf_vectorizer.fit_transform(X)\n"
      ]
    },
    {
      "cell_type": "code",
      "source": [
        "# Convert the result to a dense DataFrame\n",
        "df_tfidf = pd.DataFrame(X_tfidf.toarray(), columns=tfidf_vectorizer.get_feature_names_out())\n",
        "\n",
        "df_tfidf\n"
      ],
      "metadata": {
        "colab": {
          "base_uri": "https://localhost:8080/",
          "height": 212
        },
        "outputId": "dbf81790-6271-48df-d9dc-97168d6930d5",
        "id": "FVjewel_T7Ys"
      },
      "execution_count": 106,
      "outputs": [
        {
          "output_type": "execute_result",
          "data": {
            "text/plain": [
              "   actress  actress hilarious  annoying  annoying unnecesarry     drama  \\\n",
              "0  0.57735            0.57735  0.000000              0.000000  0.000000   \n",
              "1  0.00000            0.00000  0.000000              0.000000  0.000000   \n",
              "2  0.00000            0.00000  0.447214              0.447214  0.000000   \n",
              "3  0.00000            0.00000  0.000000              0.000000  0.447214   \n",
              "\n",
              "   drama much  entertaining  hilarious     look  look entertaining      love  \\\n",
              "0    0.000000       0.00000    0.57735  0.00000            0.00000  0.000000   \n",
              "1    0.000000       0.57735    0.00000  0.57735            0.57735  0.000000   \n",
              "2    0.000000       0.00000    0.00000  0.00000            0.00000  0.000000   \n",
              "3    0.447214       0.00000    0.00000  0.00000            0.00000  0.447214   \n",
              "\n",
              "   love drama      much     scene  unnecesarry  unnecesarry scene  \n",
              "0    0.000000  0.000000  0.000000     0.000000           0.000000  \n",
              "1    0.000000  0.000000  0.000000     0.000000           0.000000  \n",
              "2    0.000000  0.000000  0.447214     0.447214           0.447214  \n",
              "3    0.447214  0.447214  0.000000     0.000000           0.000000  "
            ],
            "text/html": [
              "\n",
              "  <div id=\"df-14ed8d6b-1f5f-4515-94f7-7acdfb3c2361\" class=\"colab-df-container\">\n",
              "    <div>\n",
              "<style scoped>\n",
              "    .dataframe tbody tr th:only-of-type {\n",
              "        vertical-align: middle;\n",
              "    }\n",
              "\n",
              "    .dataframe tbody tr th {\n",
              "        vertical-align: top;\n",
              "    }\n",
              "\n",
              "    .dataframe thead th {\n",
              "        text-align: right;\n",
              "    }\n",
              "</style>\n",
              "<table border=\"1\" class=\"dataframe\">\n",
              "  <thead>\n",
              "    <tr style=\"text-align: right;\">\n",
              "      <th></th>\n",
              "      <th>actress</th>\n",
              "      <th>actress hilarious</th>\n",
              "      <th>annoying</th>\n",
              "      <th>annoying unnecesarry</th>\n",
              "      <th>drama</th>\n",
              "      <th>drama much</th>\n",
              "      <th>entertaining</th>\n",
              "      <th>hilarious</th>\n",
              "      <th>look</th>\n",
              "      <th>look entertaining</th>\n",
              "      <th>love</th>\n",
              "      <th>love drama</th>\n",
              "      <th>much</th>\n",
              "      <th>scene</th>\n",
              "      <th>unnecesarry</th>\n",
              "      <th>unnecesarry scene</th>\n",
              "    </tr>\n",
              "  </thead>\n",
              "  <tbody>\n",
              "    <tr>\n",
              "      <th>0</th>\n",
              "      <td>0.57735</td>\n",
              "      <td>0.57735</td>\n",
              "      <td>0.000000</td>\n",
              "      <td>0.000000</td>\n",
              "      <td>0.000000</td>\n",
              "      <td>0.000000</td>\n",
              "      <td>0.00000</td>\n",
              "      <td>0.57735</td>\n",
              "      <td>0.00000</td>\n",
              "      <td>0.00000</td>\n",
              "      <td>0.000000</td>\n",
              "      <td>0.000000</td>\n",
              "      <td>0.000000</td>\n",
              "      <td>0.000000</td>\n",
              "      <td>0.000000</td>\n",
              "      <td>0.000000</td>\n",
              "    </tr>\n",
              "    <tr>\n",
              "      <th>1</th>\n",
              "      <td>0.00000</td>\n",
              "      <td>0.00000</td>\n",
              "      <td>0.000000</td>\n",
              "      <td>0.000000</td>\n",
              "      <td>0.000000</td>\n",
              "      <td>0.000000</td>\n",
              "      <td>0.57735</td>\n",
              "      <td>0.00000</td>\n",
              "      <td>0.57735</td>\n",
              "      <td>0.57735</td>\n",
              "      <td>0.000000</td>\n",
              "      <td>0.000000</td>\n",
              "      <td>0.000000</td>\n",
              "      <td>0.000000</td>\n",
              "      <td>0.000000</td>\n",
              "      <td>0.000000</td>\n",
              "    </tr>\n",
              "    <tr>\n",
              "      <th>2</th>\n",
              "      <td>0.00000</td>\n",
              "      <td>0.00000</td>\n",
              "      <td>0.447214</td>\n",
              "      <td>0.447214</td>\n",
              "      <td>0.000000</td>\n",
              "      <td>0.000000</td>\n",
              "      <td>0.00000</td>\n",
              "      <td>0.00000</td>\n",
              "      <td>0.00000</td>\n",
              "      <td>0.00000</td>\n",
              "      <td>0.000000</td>\n",
              "      <td>0.000000</td>\n",
              "      <td>0.000000</td>\n",
              "      <td>0.447214</td>\n",
              "      <td>0.447214</td>\n",
              "      <td>0.447214</td>\n",
              "    </tr>\n",
              "    <tr>\n",
              "      <th>3</th>\n",
              "      <td>0.00000</td>\n",
              "      <td>0.00000</td>\n",
              "      <td>0.000000</td>\n",
              "      <td>0.000000</td>\n",
              "      <td>0.447214</td>\n",
              "      <td>0.447214</td>\n",
              "      <td>0.00000</td>\n",
              "      <td>0.00000</td>\n",
              "      <td>0.00000</td>\n",
              "      <td>0.00000</td>\n",
              "      <td>0.447214</td>\n",
              "      <td>0.447214</td>\n",
              "      <td>0.447214</td>\n",
              "      <td>0.000000</td>\n",
              "      <td>0.000000</td>\n",
              "      <td>0.000000</td>\n",
              "    </tr>\n",
              "  </tbody>\n",
              "</table>\n",
              "</div>\n",
              "    <div class=\"colab-df-buttons\">\n",
              "\n",
              "  <div class=\"colab-df-container\">\n",
              "    <button class=\"colab-df-convert\" onclick=\"convertToInteractive('df-14ed8d6b-1f5f-4515-94f7-7acdfb3c2361')\"\n",
              "            title=\"Convert this dataframe to an interactive table.\"\n",
              "            style=\"display:none;\">\n",
              "\n",
              "  <svg xmlns=\"http://www.w3.org/2000/svg\" height=\"24px\" viewBox=\"0 -960 960 960\">\n",
              "    <path d=\"M120-120v-720h720v720H120Zm60-500h600v-160H180v160Zm220 220h160v-160H400v160Zm0 220h160v-160H400v160ZM180-400h160v-160H180v160Zm440 0h160v-160H620v160ZM180-180h160v-160H180v160Zm440 0h160v-160H620v160Z\"/>\n",
              "  </svg>\n",
              "    </button>\n",
              "\n",
              "  <style>\n",
              "    .colab-df-container {\n",
              "      display:flex;\n",
              "      gap: 12px;\n",
              "    }\n",
              "\n",
              "    .colab-df-convert {\n",
              "      background-color: #E8F0FE;\n",
              "      border: none;\n",
              "      border-radius: 50%;\n",
              "      cursor: pointer;\n",
              "      display: none;\n",
              "      fill: #1967D2;\n",
              "      height: 32px;\n",
              "      padding: 0 0 0 0;\n",
              "      width: 32px;\n",
              "    }\n",
              "\n",
              "    .colab-df-convert:hover {\n",
              "      background-color: #E2EBFA;\n",
              "      box-shadow: 0px 1px 2px rgba(60, 64, 67, 0.3), 0px 1px 3px 1px rgba(60, 64, 67, 0.15);\n",
              "      fill: #174EA6;\n",
              "    }\n",
              "\n",
              "    .colab-df-buttons div {\n",
              "      margin-bottom: 4px;\n",
              "    }\n",
              "\n",
              "    [theme=dark] .colab-df-convert {\n",
              "      background-color: #3B4455;\n",
              "      fill: #D2E3FC;\n",
              "    }\n",
              "\n",
              "    [theme=dark] .colab-df-convert:hover {\n",
              "      background-color: #434B5C;\n",
              "      box-shadow: 0px 1px 3px 1px rgba(0, 0, 0, 0.15);\n",
              "      filter: drop-shadow(0px 1px 2px rgba(0, 0, 0, 0.3));\n",
              "      fill: #FFFFFF;\n",
              "    }\n",
              "  </style>\n",
              "\n",
              "    <script>\n",
              "      const buttonEl =\n",
              "        document.querySelector('#df-14ed8d6b-1f5f-4515-94f7-7acdfb3c2361 button.colab-df-convert');\n",
              "      buttonEl.style.display =\n",
              "        google.colab.kernel.accessAllowed ? 'block' : 'none';\n",
              "\n",
              "      async function convertToInteractive(key) {\n",
              "        const element = document.querySelector('#df-14ed8d6b-1f5f-4515-94f7-7acdfb3c2361');\n",
              "        const dataTable =\n",
              "          await google.colab.kernel.invokeFunction('convertToInteractive',\n",
              "                                                    [key], {});\n",
              "        if (!dataTable) return;\n",
              "\n",
              "        const docLinkHtml = 'Like what you see? Visit the ' +\n",
              "          '<a target=\"_blank\" href=https://colab.research.google.com/notebooks/data_table.ipynb>data table notebook</a>'\n",
              "          + ' to learn more about interactive tables.';\n",
              "        element.innerHTML = '';\n",
              "        dataTable['output_type'] = 'display_data';\n",
              "        await google.colab.output.renderOutput(dataTable, element);\n",
              "        const docLink = document.createElement('div');\n",
              "        docLink.innerHTML = docLinkHtml;\n",
              "        element.appendChild(docLink);\n",
              "      }\n",
              "    </script>\n",
              "  </div>\n",
              "\n",
              "\n",
              "<div id=\"df-abde44d1-f2e1-4c66-b3ec-589e10ecd028\">\n",
              "  <button class=\"colab-df-quickchart\" onclick=\"quickchart('df-abde44d1-f2e1-4c66-b3ec-589e10ecd028')\"\n",
              "            title=\"Suggest charts.\"\n",
              "            style=\"display:none;\">\n",
              "\n",
              "<svg xmlns=\"http://www.w3.org/2000/svg\" height=\"24px\"viewBox=\"0 0 24 24\"\n",
              "     width=\"24px\">\n",
              "    <g>\n",
              "        <path d=\"M19 3H5c-1.1 0-2 .9-2 2v14c0 1.1.9 2 2 2h14c1.1 0 2-.9 2-2V5c0-1.1-.9-2-2-2zM9 17H7v-7h2v7zm4 0h-2V7h2v10zm4 0h-2v-4h2v4z\"/>\n",
              "    </g>\n",
              "</svg>\n",
              "  </button>\n",
              "\n",
              "<style>\n",
              "  .colab-df-quickchart {\n",
              "      --bg-color: #E8F0FE;\n",
              "      --fill-color: #1967D2;\n",
              "      --hover-bg-color: #E2EBFA;\n",
              "      --hover-fill-color: #174EA6;\n",
              "      --disabled-fill-color: #AAA;\n",
              "      --disabled-bg-color: #DDD;\n",
              "  }\n",
              "\n",
              "  [theme=dark] .colab-df-quickchart {\n",
              "      --bg-color: #3B4455;\n",
              "      --fill-color: #D2E3FC;\n",
              "      --hover-bg-color: #434B5C;\n",
              "      --hover-fill-color: #FFFFFF;\n",
              "      --disabled-bg-color: #3B4455;\n",
              "      --disabled-fill-color: #666;\n",
              "  }\n",
              "\n",
              "  .colab-df-quickchart {\n",
              "    background-color: var(--bg-color);\n",
              "    border: none;\n",
              "    border-radius: 50%;\n",
              "    cursor: pointer;\n",
              "    display: none;\n",
              "    fill: var(--fill-color);\n",
              "    height: 32px;\n",
              "    padding: 0;\n",
              "    width: 32px;\n",
              "  }\n",
              "\n",
              "  .colab-df-quickchart:hover {\n",
              "    background-color: var(--hover-bg-color);\n",
              "    box-shadow: 0 1px 2px rgba(60, 64, 67, 0.3), 0 1px 3px 1px rgba(60, 64, 67, 0.15);\n",
              "    fill: var(--button-hover-fill-color);\n",
              "  }\n",
              "\n",
              "  .colab-df-quickchart-complete:disabled,\n",
              "  .colab-df-quickchart-complete:disabled:hover {\n",
              "    background-color: var(--disabled-bg-color);\n",
              "    fill: var(--disabled-fill-color);\n",
              "    box-shadow: none;\n",
              "  }\n",
              "\n",
              "  .colab-df-spinner {\n",
              "    border: 2px solid var(--fill-color);\n",
              "    border-color: transparent;\n",
              "    border-bottom-color: var(--fill-color);\n",
              "    animation:\n",
              "      spin 1s steps(1) infinite;\n",
              "  }\n",
              "\n",
              "  @keyframes spin {\n",
              "    0% {\n",
              "      border-color: transparent;\n",
              "      border-bottom-color: var(--fill-color);\n",
              "      border-left-color: var(--fill-color);\n",
              "    }\n",
              "    20% {\n",
              "      border-color: transparent;\n",
              "      border-left-color: var(--fill-color);\n",
              "      border-top-color: var(--fill-color);\n",
              "    }\n",
              "    30% {\n",
              "      border-color: transparent;\n",
              "      border-left-color: var(--fill-color);\n",
              "      border-top-color: var(--fill-color);\n",
              "      border-right-color: var(--fill-color);\n",
              "    }\n",
              "    40% {\n",
              "      border-color: transparent;\n",
              "      border-right-color: var(--fill-color);\n",
              "      border-top-color: var(--fill-color);\n",
              "    }\n",
              "    60% {\n",
              "      border-color: transparent;\n",
              "      border-right-color: var(--fill-color);\n",
              "    }\n",
              "    80% {\n",
              "      border-color: transparent;\n",
              "      border-right-color: var(--fill-color);\n",
              "      border-bottom-color: var(--fill-color);\n",
              "    }\n",
              "    90% {\n",
              "      border-color: transparent;\n",
              "      border-bottom-color: var(--fill-color);\n",
              "    }\n",
              "  }\n",
              "</style>\n",
              "\n",
              "  <script>\n",
              "    async function quickchart(key) {\n",
              "      const quickchartButtonEl =\n",
              "        document.querySelector('#' + key + ' button');\n",
              "      quickchartButtonEl.disabled = true;  // To prevent multiple clicks.\n",
              "      quickchartButtonEl.classList.add('colab-df-spinner');\n",
              "      try {\n",
              "        const charts = await google.colab.kernel.invokeFunction(\n",
              "            'suggestCharts', [key], {});\n",
              "      } catch (error) {\n",
              "        console.error('Error during call to suggestCharts:', error);\n",
              "      }\n",
              "      quickchartButtonEl.classList.remove('colab-df-spinner');\n",
              "      quickchartButtonEl.classList.add('colab-df-quickchart-complete');\n",
              "    }\n",
              "    (() => {\n",
              "      let quickchartButtonEl =\n",
              "        document.querySelector('#df-abde44d1-f2e1-4c66-b3ec-589e10ecd028 button');\n",
              "      quickchartButtonEl.style.display =\n",
              "        google.colab.kernel.accessAllowed ? 'block' : 'none';\n",
              "    })();\n",
              "  </script>\n",
              "</div>\n",
              "    </div>\n",
              "  </div>\n"
            ]
          },
          "metadata": {},
          "execution_count": 106
        }
      ]
    },
    {
      "cell_type": "code",
      "source": [
        "df_tfidf.info()"
      ],
      "metadata": {
        "colab": {
          "base_uri": "https://localhost:8080/"
        },
        "outputId": "8ac8ca00-946b-4d84-d2aa-fa3f368783e8",
        "id": "gJ4LDO0iT7Ys"
      },
      "execution_count": 107,
      "outputs": [
        {
          "output_type": "stream",
          "name": "stdout",
          "text": [
            "<class 'pandas.core.frame.DataFrame'>\n",
            "RangeIndex: 4 entries, 0 to 3\n",
            "Data columns (total 16 columns):\n",
            " #   Column                Non-Null Count  Dtype  \n",
            "---  ------                --------------  -----  \n",
            " 0   actress               4 non-null      float64\n",
            " 1   actress hilarious     4 non-null      float64\n",
            " 2   annoying              4 non-null      float64\n",
            " 3   annoying unnecesarry  4 non-null      float64\n",
            " 4   drama                 4 non-null      float64\n",
            " 5   drama much            4 non-null      float64\n",
            " 6   entertaining          4 non-null      float64\n",
            " 7   hilarious             4 non-null      float64\n",
            " 8   look                  4 non-null      float64\n",
            " 9   look entertaining     4 non-null      float64\n",
            " 10  love                  4 non-null      float64\n",
            " 11  love drama            4 non-null      float64\n",
            " 12  much                  4 non-null      float64\n",
            " 13  scene                 4 non-null      float64\n",
            " 14  unnecesarry           4 non-null      float64\n",
            " 15  unnecesarry scene     4 non-null      float64\n",
            "dtypes: float64(16)\n",
            "memory usage: 640.0 bytes\n"
          ]
        }
      ]
    },
    {
      "cell_type": "code",
      "source": [
        "tfidf_vectorizer.vocabulary_"
      ],
      "metadata": {
        "colab": {
          "base_uri": "https://localhost:8080/"
        },
        "id": "DQtdgEQOV7u2",
        "outputId": "b7c4d8f4-4c61-4c63-8193-49e3a41de612"
      },
      "execution_count": 108,
      "outputs": [
        {
          "output_type": "execute_result",
          "data": {
            "text/plain": [
              "{'actress': 0,\n",
              " 'hilarious': 7,\n",
              " 'actress hilarious': 1,\n",
              " 'look': 8,\n",
              " 'entertaining': 6,\n",
              " 'look entertaining': 9,\n",
              " 'annoying': 2,\n",
              " 'unnecesarry': 14,\n",
              " 'scene': 13,\n",
              " 'annoying unnecesarry': 3,\n",
              " 'unnecesarry scene': 15,\n",
              " 'love': 10,\n",
              " 'drama': 4,\n",
              " 'much': 12,\n",
              " 'love drama': 11,\n",
              " 'drama much': 5}"
            ]
          },
          "metadata": {},
          "execution_count": 108
        }
      ]
    },
    {
      "cell_type": "markdown",
      "source": [
        "# **Final Words:**\n",
        "\n",
        "I hope this has provided you with a clearer understanding of text data vectorisation. Remember, TF-IDF is just one of many methods used for this purpose. There are also other more advanced techniques such as word embeddings (like Word2Vec and GloVe) which can capture deeper semantic meanings. Systems like ChatGPT utilise semantic and contextual embeddings for vectorisation.\n",
        "\n",
        "In a similar way to text vectorisation, we can also convert other types of data, such as images and audio, into numerical form. This transformation enables machine learning algorithms to process and analyse them.\n",
        "\n",
        "Keep learning and enjoy!"
      ],
      "metadata": {
        "id": "t2Tv2zEFcR7L"
      }
    }
  ],
  "metadata": {
    "accelerator": "GPU",
    "colab": {
      "toc_visible": true,
      "provenance": []
    },
    "kernelspec": {
      "display_name": "Python 3",
      "name": "python3"
    },
    "language_info": {
      "name": "python"
    }
  },
  "nbformat": 4,
  "nbformat_minor": 0
}