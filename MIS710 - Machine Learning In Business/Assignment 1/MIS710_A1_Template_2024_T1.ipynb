{
  "nbformat": 4,
  "nbformat_minor": 0,
  "metadata": {
    "colab": {
      "provenance": [],
      "toc_visible": true
    },
    "kernelspec": {
      "name": "python3",
      "display_name": "Python 3"
    },
    "language_info": {
      "name": "python"
    }
  },
  "cells": [
    {
      "cell_type": "markdown",
      "metadata": {
        "id": "view-in-github"
      },
      "source": [
        "<a href=\"https://colab.research.google.com/github/thuc-github/MIS710-T12023/blob/main/A1/MIS710%20A1%20Template%20T1%202023.ipynb\" target=\"_parent\"><img src=\"https://colab.research.google.com/assets/colab-badge.svg\" alt=\"Open In Colab\"/></a>"
      ]
    },
    {
      "cell_type": "markdown",
      "source": [
        "# MIS710 Machine Learning in Business - Assignment 1"
      ],
      "metadata": {
        "id": "x-ROo9Wdf7Mc"
      }
    },
    {
      "cell_type": "markdown",
      "source": [
        "**Student Name:** _enter your full name here_\n",
        "\n",
        "**Student ID:** _enter your student ID here_"
      ],
      "metadata": {
        "id": "6Ftd6UAfgJ_d"
      }
    },
    {
      "cell_type": "markdown",
      "source": [
        "<a id = \"cell_executivesummary\"></a>\n",
        "## 1. Business understandings, problem, solution and recommendations\n",
        "\n",
        "#### NOTE: all the instructions and hints given in this template should be removed from your final submission. (Including this line)\n",
        "\n",
        "**Aim:** To clearly articulate your understanding of the bussiness problem to management.\n",
        "\n",
        "_Use this section to briefly include the business understandings and the business problem to address, the aim of this project and recommendations informed by your work."
      ],
      "metadata": {
        "id": "PzwuTv8JgVYR"
      }
    },
    {
      "cell_type": "code",
      "source": [],
      "metadata": {
        "id": "PyO3mW4mPYSA"
      },
      "execution_count": null,
      "outputs": []
    },
    {
      "cell_type": "markdown",
      "source": [
        "<a id = \"cell_exploration\"></a>\n",
        "## 2. Data understanding, preparation, explorations and visualisation\n",
        "\n",
        "#### NOTE: You can create multiple Markdown and Code cells to present your work.\n",
        "\n",
        "**Aim:** To demonstrate your understanding of data and report any insights emerging from data analysis\n",
        "\n",
        "This section can be used for:\n",
        "* Preparing (cleansing) for further processing.\n",
        "* Finding meaningful patterns in the data set as relevant to the case study and the problem.\n",
        "* Visualising variables related to the problem.\n",
        "\n",
        "This section may include:\n",
        "* Selection of relevant data features.\n",
        "* Selection of an attribute as label.\n",
        "* Approach to handling missing values (if any).\n",
        "* Transformations on the dataset (can be any necessary modifications to the data - string value or categorial variables to numerical, any numeric normalizations, or any type conversions such as nominal to numeric and the similar).\n",
        "* Univariate/Bivariate/Multivariate analyses (e.g., using visualizations etc.).\n",
        "\n",
        "Make sure your visualizations are accompanied by relevant discussions of the insights the analyses and visualizations will/should lead to."
      ],
      "metadata": {
        "id": "hcm5p3hygdpr"
      }
    },
    {
      "cell_type": "code",
      "source": [
        "# Load requires libraries\n",
        "\n",
        "# Load data from CloudDeakin\n"
      ],
      "metadata": {
        "id": "UDA6ok0rn5QU"
      },
      "execution_count": null,
      "outputs": []
    },
    {
      "cell_type": "markdown",
      "source": [
        "<a id = \"cell_modeling\"></a>\n",
        "## 3. Machine learning model development\n",
        "\n",
        "#### NOTE: You can create multiple Markdown and Code cells to present your work.\n",
        "**Aim:** To demonstrate your understanding in AI modeling.\n",
        "\n",
        "_Use this section to show and discuss the process/processes as relevant to the case study, key steps to run and complete the experiment and details of models._  \n",
        "\n",
        "This section may include:\n",
        "* How to split dataset.\n",
        "* How to initiate machine learning model and fit training data.\n",
        "* How to use trained model to predict labels for training and testing dataset."
      ],
      "metadata": {
        "id": "R5koQAiwghJb"
      }
    },
    {
      "cell_type": "code",
      "source": [
        "# Code"
      ],
      "metadata": {
        "id": "LcJWbxQYn5Ai"
      },
      "execution_count": null,
      "outputs": []
    },
    {
      "cell_type": "markdown",
      "source": [
        "<a id = \"cell_Evaluation\"></a>\n",
        "## 4. Model evaluation                                                                                                                       \n",
        "\n",
        "#### NOTE: You can create multiple Markdown and Code cells to present your work.\n",
        "**Aim:** To demonstrate your understanding in model execution and evaluation.\n",
        "\n",
        "_Use this section to report your evaluation procedures and results.  Discuss/interpret the results of your experiments, discuss/compare the performance of the model(s), any steps you have taken to improve the performance of your model(s)._\n"
      ],
      "metadata": {
        "id": "A3_Y_UU1gq7X"
      }
    },
    {
      "cell_type": "code",
      "source": [
        "# Code"
      ],
      "metadata": {
        "id": "PmnC2D0gplMq"
      },
      "execution_count": null,
      "outputs": []
    },
    {
      "cell_type": "markdown",
      "source": [
        "## 5. Competition (optional)\n",
        "\n",
        "#### NOTE: You can create multiple Markdown and Code cells to present your work.\n",
        "**Aim:** To (optionally) participate in the competetion.\n",
        "\n",
        "_Use this section to report the deployment of the model on the unseen dataset. To ensure that the training and deployment datasets have similar features, it is important to preprocess the data in a consistent manner. This includes applying the same data preprocessing steps to both the training and deployment datasets. For example, if you are scaling the features in the training dataset, you should also scale the features in the deployment dataset using the same scaling method and parameters._\n",
        "\n",
        "_Apply the trained model to predict the label for the deployment dataset and submit the result (inspection dataframe) as a csv file with you assessment._\n",
        "\n",
        "\n"
      ],
      "metadata": {
        "id": "J5kOILXWPBXg"
      }
    },
    {
      "cell_type": "code",
      "source": [
        "import pandas as pd"
      ],
      "metadata": {
        "id": "l8eyiGtWQy5t"
      },
      "execution_count": null,
      "outputs": []
    },
    {
      "cell_type": "code",
      "source": [
        "#read the the competition dataset\n"
      ],
      "metadata": {
        "id": "HNspRoUjQBGM"
      },
      "execution_count": null,
      "outputs": []
    },
    {
      "cell_type": "code",
      "source": [
        "# Apply data transformation to the competition data,\n",
        "# ensure number of features and transformation of X and X_competion are similar\n",
        "\n",
        "# Apply trained model to X_competition\n",
        "# y_competition = model(X_compeition)\n",
        "\n",
        "#\n",
        "# join unseen y_competition with predicted value into a data frame\n",
        "inspection = pd.DataFrame({'Predicted':y_competition})\n",
        "\n",
        "# join X_competition with the new dataframe\n",
        "inspection = pd.concat([X_competition, inspection], axis=1)\n",
        "\n",
        "# Submit this results.csv file to join the competition, for example\n",
        "inspection.to_csv('Competition_pred.csv')"
      ],
      "metadata": {
        "id": "ccB6wUxnQxe7"
      },
      "execution_count": null,
      "outputs": []
    }
  ]
}