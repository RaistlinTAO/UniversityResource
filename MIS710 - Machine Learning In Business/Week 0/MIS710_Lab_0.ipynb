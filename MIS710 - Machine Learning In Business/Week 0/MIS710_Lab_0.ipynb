{
  "nbformat": 4,
  "nbformat_minor": 0,
  "metadata": {
    "colab": {
      "provenance": []
    },
    "kernelspec": {
      "name": "python3",
      "display_name": "Python 3"
    },
    "language_info": {
      "name": "python"
    }
  },
  "cells": [
    {
      "cell_type": "markdown",
      "source": [
        "# **Welcome to MIS710 Machine Learning in Business**\n",
        "Associate Professor Lemai Nguyen\n",
        "\n",
        "Lab 0 - Introduction to Python basics\n",
        "\n",
        "Objectives:\n",
        "\n",
        "\n",
        "1.   To set up and familiarise with the Google Colab environment for MIS710\n",
        "2.   Learn Python programming basics\n",
        "\n",
        "Tasks:\n",
        "Follow the MIS710 Lab 0 slides and instructions\n",
        "\n"
      ],
      "metadata": {
        "id": "p4ZDVd7uvzNG"
      }
    },
    {
      "cell_type": "markdown",
      "source": [
        "**Student name:**\n",
        "\n",
        "Student ID:"
      ],
      "metadata": {
        "id": "cFlk7601zt-l"
      }
    },
    {
      "cell_type": "markdown",
      "source": [
        "# **Slide 9. Steps 4 and 5.**\n",
        "\n",
        "Print a text saying Hello world to test if the setting is done"
      ],
      "metadata": {
        "id": "1PUFSmrPzbqq"
      }
    },
    {
      "cell_type": "code",
      "execution_count": 1,
      "metadata": {
        "colab": {
          "base_uri": "https://localhost:8080/"
        },
        "id": "3Qr5Jlwwk1QL",
        "outputId": "a887b881-2e1e-4e71-c10c-4d9bed207ac7"
      },
      "outputs": [
        {
          "output_type": "stream",
          "name": "stdout",
          "text": [
            "Hello world!\n"
          ]
        }
      ],
      "source": [
        "'''\n",
        "Write comment lines to document your code and communicate with others'''\n",
        "\n",
        "#Print a text saying Hello world to test if the setting is done\n",
        "print('Hello world!')\n"
      ]
    },
    {
      "cell_type": "markdown",
      "source": [
        "Use single quotes '   ' or double \"    \" to contain string contents.\n",
        "\n",
        "Now change the text to whatever you like."
      ],
      "metadata": {
        "id": "5gHjPDw8w2i2"
      }
    },
    {
      "cell_type": "code",
      "source": [
        "print('My name is Lemai Nguyen')"
      ],
      "metadata": {
        "colab": {
          "base_uri": "https://localhost:8080/"
        },
        "id": "5_U9MR7Cw7ri",
        "outputId": "4108349a-91a7-4c85-80b1-e444261e12ea"
      },
      "execution_count": 2,
      "outputs": [
        {
          "output_type": "stream",
          "name": "stdout",
          "text": [
            "My name is Lemai Nguyen\n"
          ]
        }
      ]
    },
    {
      "cell_type": "markdown",
      "source": [
        "Now try to print 'I'm a MIS710 student'. What happens?\n",
        "\n",
        "the character ' in \"I'm\" is preseved to close the string. To overcome this, use a slash \\ for example:"
      ],
      "metadata": {
        "id": "cEkuRojdx2xS"
      }
    },
    {
      "cell_type": "code",
      "source": [
        "print('I\\'m Lemai Nguyen')"
      ],
      "metadata": {
        "id": "WzrJm8RUxT-F",
        "colab": {
          "base_uri": "https://localhost:8080/"
        },
        "outputId": "05c87ba0-5f8f-4c0f-c877-c4d411dca4fc"
      },
      "execution_count": 3,
      "outputs": [
        {
          "output_type": "stream",
          "name": "stdout",
          "text": [
            "I'm Lemai Nguyen\n"
          ]
        }
      ]
    },
    {
      "cell_type": "markdown",
      "source": [
        "Add a new Code cell, note the invite `Start coding or generate with AI`\n",
        "Click on `generate` and type: Print \"I'm Alice in WonderLand\"\n",
        "\n",
        "\n"
      ],
      "metadata": {
        "id": "5m4xb6Dmx41A"
      }
    },
    {
      "cell_type": "markdown",
      "source": [
        "# **Slide 9. Step 6.**"
      ],
      "metadata": {
        "id": "18odzcbCzhcv"
      }
    },
    {
      "cell_type": "markdown",
      "source": [
        "**Now, follow the instructions at the following site**\n",
        "https://swcarpentry.github.io/python-novice-inflammation/01-intro.html\n",
        "to learn Python basics in preparation for MIS710.\n",
        "\n",
        "The exercises here and questions should be completed **prior to attending the class and lab in Week 1. **"
      ],
      "metadata": {
        "id": "8lbV4CD_yWzq"
      }
    },
    {
      "cell_type": "code",
      "source": [
        "#Step 6 in MIS710T1 Lab0"
      ],
      "metadata": {
        "id": "KaXDJlI1y2zs"
      },
      "execution_count": 4,
      "outputs": []
    }
  ]
}